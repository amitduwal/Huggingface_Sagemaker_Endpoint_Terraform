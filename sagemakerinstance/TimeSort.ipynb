{
 "cells": [
  {
   "cell_type": "markdown",
   "id": "5e78f49a",
   "metadata": {},
   "source": [
    "# Document processing\n",
    "\n"
   ]
  },
  {
   "cell_type": "code",
   "execution_count": 1,
   "id": "8ec74efd",
   "metadata": {},
   "outputs": [
    {
     "name": "stdout",
     "output_type": "stream",
     "text": [
      "Collecting PyMuPDF\n",
      "  Obtaining dependency information for PyMuPDF from https://files.pythonhosted.org/packages/41/4a/530017aaf0a554aa6d9abd547932a02c0188962d12122fe611bf7a6d0c26/PyMuPDF-1.23.5-cp310-none-manylinux2014_x86_64.whl.metadata\n",
      "  Downloading PyMuPDF-1.23.5-cp310-none-manylinux2014_x86_64.whl.metadata (3.4 kB)\n",
      "Collecting PyMuPDFb==1.23.5 (from PyMuPDF)\n",
      "  Obtaining dependency information for PyMuPDFb==1.23.5 from https://files.pythonhosted.org/packages/cf/14/de59687368ad2c047b038b5b9b04e40bd5d486d5b36c6aef42c18c35ea2c/PyMuPDFb-1.23.5-py3-none-manylinux2014_x86_64.manylinux_2_17_x86_64.whl.metadata\n",
      "  Downloading PyMuPDFb-1.23.5-py3-none-manylinux2014_x86_64.manylinux_2_17_x86_64.whl.metadata (1.3 kB)\n",
      "Downloading PyMuPDF-1.23.5-cp310-none-manylinux2014_x86_64.whl (4.3 MB)\n",
      "\u001b[2K   \u001b[90m━━━━━━━━━━━━━━━━━━━━━━━━━━━━━━━━━━━━━━━━\u001b[0m \u001b[32m4.3/4.3 MB\u001b[0m \u001b[31m28.4 MB/s\u001b[0m eta \u001b[36m0:00:00\u001b[0m00:01\u001b[0m00:01\u001b[0m\n",
      "\u001b[?25hDownloading PyMuPDFb-1.23.5-py3-none-manylinux2014_x86_64.manylinux_2_17_x86_64.whl (30.6 MB)\n",
      "\u001b[2K   \u001b[90m━━━━━━━━━━━━━━━━━━━━━━━━━━━━━━━━━━━━━━━━\u001b[0m \u001b[32m30.6/30.6 MB\u001b[0m \u001b[31m14.2 MB/s\u001b[0m eta \u001b[36m0:00:00\u001b[0m:00:01\u001b[0m00:01\u001b[0m\n",
      "\u001b[?25hInstalling collected packages: PyMuPDFb, PyMuPDF\n",
      "Successfully installed PyMuPDF-1.23.5 PyMuPDFb-1.23.5\n",
      "Collecting langchain\n",
      "  Obtaining dependency information for langchain from https://files.pythonhosted.org/packages/cb/58/27830eb8bdcfabc2ec9ce2fef4e9d4fda5ce7c886f6b5be18d2ee365e603/langchain-0.0.316-py3-none-any.whl.metadata\n",
      "  Downloading langchain-0.0.316-py3-none-any.whl.metadata (15 kB)\n",
      "Requirement already satisfied: PyYAML>=5.3 in /home/ec2-user/anaconda3/envs/pytorch_p310/lib/python3.10/site-packages (from langchain) (6.0)\n",
      "Collecting SQLAlchemy<3,>=1.4 (from langchain)\n",
      "  Obtaining dependency information for SQLAlchemy<3,>=1.4 from https://files.pythonhosted.org/packages/26/54/6f2a9b21a9dc921181ae1084c35391c51b57daa11f88c830332a69298a62/SQLAlchemy-2.0.22-cp310-cp310-manylinux_2_17_x86_64.manylinux2014_x86_64.whl.metadata\n",
      "  Downloading SQLAlchemy-2.0.22-cp310-cp310-manylinux_2_17_x86_64.manylinux2014_x86_64.whl.metadata (9.4 kB)\n",
      "Collecting aiohttp<4.0.0,>=3.8.3 (from langchain)\n",
      "  Obtaining dependency information for aiohttp<4.0.0,>=3.8.3 from https://files.pythonhosted.org/packages/41/8e/4c48881316bbced3d13089c4d0df4be321ce79a0c695d82dee9996aaf56b/aiohttp-3.8.6-cp310-cp310-manylinux_2_17_x86_64.manylinux2014_x86_64.whl.metadata\n",
      "  Downloading aiohttp-3.8.6-cp310-cp310-manylinux_2_17_x86_64.manylinux2014_x86_64.whl.metadata (7.7 kB)\n",
      "Requirement already satisfied: anyio<4.0 in /home/ec2-user/anaconda3/envs/pytorch_p310/lib/python3.10/site-packages (from langchain) (3.7.1)\n",
      "Collecting async-timeout<5.0.0,>=4.0.0 (from langchain)\n",
      "  Obtaining dependency information for async-timeout<5.0.0,>=4.0.0 from https://files.pythonhosted.org/packages/a7/fa/e01228c2938de91d47b307831c62ab9e4001e747789d0b05baf779a6488c/async_timeout-4.0.3-py3-none-any.whl.metadata\n",
      "  Using cached async_timeout-4.0.3-py3-none-any.whl.metadata (4.2 kB)\n",
      "Collecting dataclasses-json<0.7,>=0.5.7 (from langchain)\n",
      "  Obtaining dependency information for dataclasses-json<0.7,>=0.5.7 from https://files.pythonhosted.org/packages/21/1f/1cff009cff64420572b9f75b70e4a054095719179a172297dfdd65843162/dataclasses_json-0.6.1-py3-none-any.whl.metadata\n",
      "  Downloading dataclasses_json-0.6.1-py3-none-any.whl.metadata (24 kB)\n",
      "Collecting jsonpatch<2.0,>=1.33 (from langchain)\n",
      "  Obtaining dependency information for jsonpatch<2.0,>=1.33 from https://files.pythonhosted.org/packages/73/07/02e16ed01e04a374e644b575638ec7987ae846d25ad97bcc9945a3ee4b0e/jsonpatch-1.33-py2.py3-none-any.whl.metadata\n",
      "  Downloading jsonpatch-1.33-py2.py3-none-any.whl.metadata (3.0 kB)\n",
      "Collecting langsmith<0.1.0,>=0.0.43 (from langchain)\n",
      "  Obtaining dependency information for langsmith<0.1.0,>=0.0.43 from https://files.pythonhosted.org/packages/0c/c5/3b027962444d0ac1554ce838f471583939c659000197c023acfbca649df2/langsmith-0.0.44-py3-none-any.whl.metadata\n",
      "  Downloading langsmith-0.0.44-py3-none-any.whl.metadata (10 kB)\n",
      "Requirement already satisfied: numpy<2,>=1 in /home/ec2-user/anaconda3/envs/pytorch_p310/lib/python3.10/site-packages (from langchain) (1.24.4)\n",
      "Requirement already satisfied: pydantic<3,>=1 in /home/ec2-user/anaconda3/envs/pytorch_p310/lib/python3.10/site-packages (from langchain) (2.0.3)\n",
      "Requirement already satisfied: requests<3,>=2 in /home/ec2-user/anaconda3/envs/pytorch_p310/lib/python3.10/site-packages (from langchain) (2.31.0)\n",
      "Requirement already satisfied: tenacity<9.0.0,>=8.1.0 in /home/ec2-user/anaconda3/envs/pytorch_p310/lib/python3.10/site-packages (from langchain) (8.2.2)\n",
      "Requirement already satisfied: attrs>=17.3.0 in /home/ec2-user/anaconda3/envs/pytorch_p310/lib/python3.10/site-packages (from aiohttp<4.0.0,>=3.8.3->langchain) (23.1.0)\n",
      "Requirement already satisfied: charset-normalizer<4.0,>=2.0 in /home/ec2-user/anaconda3/envs/pytorch_p310/lib/python3.10/site-packages (from aiohttp<4.0.0,>=3.8.3->langchain) (3.2.0)\n",
      "Collecting multidict<7.0,>=4.5 (from aiohttp<4.0.0,>=3.8.3->langchain)\n",
      "  Using cached multidict-6.0.4-cp310-cp310-manylinux_2_17_x86_64.manylinux2014_x86_64.whl (114 kB)\n",
      "Collecting yarl<2.0,>=1.0 (from aiohttp<4.0.0,>=3.8.3->langchain)\n",
      "  Using cached yarl-1.9.2-cp310-cp310-manylinux_2_17_x86_64.manylinux2014_x86_64.whl (268 kB)\n",
      "Collecting frozenlist>=1.1.1 (from aiohttp<4.0.0,>=3.8.3->langchain)\n",
      "  Obtaining dependency information for frozenlist>=1.1.1 from https://files.pythonhosted.org/packages/1e/28/74b8b6451c89c070d34e753d8b65a1e4ce508a6808b18529f36e8c0e2184/frozenlist-1.4.0-cp310-cp310-manylinux_2_5_x86_64.manylinux1_x86_64.manylinux_2_17_x86_64.manylinux2014_x86_64.whl.metadata\n",
      "  Using cached frozenlist-1.4.0-cp310-cp310-manylinux_2_5_x86_64.manylinux1_x86_64.manylinux_2_17_x86_64.manylinux2014_x86_64.whl.metadata (5.2 kB)\n",
      "Collecting aiosignal>=1.1.2 (from aiohttp<4.0.0,>=3.8.3->langchain)\n",
      "  Using cached aiosignal-1.3.1-py3-none-any.whl (7.6 kB)\n",
      "Requirement already satisfied: idna>=2.8 in /home/ec2-user/anaconda3/envs/pytorch_p310/lib/python3.10/site-packages (from anyio<4.0->langchain) (3.4)\n",
      "Requirement already satisfied: sniffio>=1.1 in /home/ec2-user/anaconda3/envs/pytorch_p310/lib/python3.10/site-packages (from anyio<4.0->langchain) (1.3.0)\n",
      "Requirement already satisfied: exceptiongroup in /home/ec2-user/anaconda3/envs/pytorch_p310/lib/python3.10/site-packages (from anyio<4.0->langchain) (1.1.2)\n",
      "Collecting marshmallow<4.0.0,>=3.18.0 (from dataclasses-json<0.7,>=0.5.7->langchain)\n",
      "  Obtaining dependency information for marshmallow<4.0.0,>=3.18.0 from https://files.pythonhosted.org/packages/ed/3c/cebfdcad015240014ff08b883d1c0c427f2ba45ae8c6572851b6ef136cad/marshmallow-3.20.1-py3-none-any.whl.metadata\n",
      "  Downloading marshmallow-3.20.1-py3-none-any.whl.metadata (7.8 kB)\n",
      "Collecting typing-inspect<1,>=0.4.0 (from dataclasses-json<0.7,>=0.5.7->langchain)\n",
      "  Obtaining dependency information for typing-inspect<1,>=0.4.0 from https://files.pythonhosted.org/packages/65/f3/107a22063bf27bdccf2024833d3445f4eea42b2e598abfbd46f6a63b6cb0/typing_inspect-0.9.0-py3-none-any.whl.metadata\n",
      "  Downloading typing_inspect-0.9.0-py3-none-any.whl.metadata (1.5 kB)\n",
      "Requirement already satisfied: jsonpointer>=1.9 in /home/ec2-user/anaconda3/envs/pytorch_p310/lib/python3.10/site-packages (from jsonpatch<2.0,>=1.33->langchain) (2.4)\n",
      "Requirement already satisfied: annotated-types>=0.4.0 in /home/ec2-user/anaconda3/envs/pytorch_p310/lib/python3.10/site-packages (from pydantic<3,>=1->langchain) (0.5.0)\n",
      "Requirement already satisfied: pydantic-core==2.3.0 in /home/ec2-user/anaconda3/envs/pytorch_p310/lib/python3.10/site-packages (from pydantic<3,>=1->langchain) (2.3.0)\n",
      "Requirement already satisfied: typing-extensions>=4.6.1 in /home/ec2-user/anaconda3/envs/pytorch_p310/lib/python3.10/site-packages (from pydantic<3,>=1->langchain) (4.7.1)\n",
      "Requirement already satisfied: urllib3<3,>=1.21.1 in /home/ec2-user/anaconda3/envs/pytorch_p310/lib/python3.10/site-packages (from requests<3,>=2->langchain) (1.26.14)\n",
      "Requirement already satisfied: certifi>=2017.4.17 in /home/ec2-user/anaconda3/envs/pytorch_p310/lib/python3.10/site-packages (from requests<3,>=2->langchain) (2023.5.7)\n",
      "Collecting greenlet!=0.4.17 (from SQLAlchemy<3,>=1.4->langchain)\n",
      "  Obtaining dependency information for greenlet!=0.4.17 from https://files.pythonhosted.org/packages/be/ab/41dee001218f799bb5c78e338fa5e81fff074d65a917e21ce4696476c45b/greenlet-3.0.0-cp310-cp310-manylinux_2_24_x86_64.manylinux_2_28_x86_64.whl.metadata\n",
      "  Downloading greenlet-3.0.0-cp310-cp310-manylinux_2_24_x86_64.manylinux_2_28_x86_64.whl.metadata (3.8 kB)\n"
     ]
    },
    {
     "name": "stdout",
     "output_type": "stream",
     "text": [
      "Requirement already satisfied: packaging>=17.0 in /home/ec2-user/anaconda3/envs/pytorch_p310/lib/python3.10/site-packages (from marshmallow<4.0.0,>=3.18.0->dataclasses-json<0.7,>=0.5.7->langchain) (21.3)\n",
      "Collecting mypy-extensions>=0.3.0 (from typing-inspect<1,>=0.4.0->dataclasses-json<0.7,>=0.5.7->langchain)\n",
      "  Downloading mypy_extensions-1.0.0-py3-none-any.whl (4.7 kB)\n",
      "Requirement already satisfied: pyparsing!=3.0.5,>=2.0.2 in /home/ec2-user/anaconda3/envs/pytorch_p310/lib/python3.10/site-packages (from packaging>=17.0->marshmallow<4.0.0,>=3.18.0->dataclasses-json<0.7,>=0.5.7->langchain) (3.0.9)\n",
      "Downloading langchain-0.0.316-py3-none-any.whl (1.9 MB)\n",
      "\u001b[2K   \u001b[90m━━━━━━━━━━━━━━━━━━━━━━━━━━━━━━━━━━━━━━━━\u001b[0m \u001b[32m1.9/1.9 MB\u001b[0m \u001b[31m19.0 MB/s\u001b[0m eta \u001b[36m0:00:00\u001b[0m00:01\u001b[0m00:01\u001b[0m\n",
      "\u001b[?25hDownloading aiohttp-3.8.6-cp310-cp310-manylinux_2_17_x86_64.manylinux2014_x86_64.whl (1.0 MB)\n",
      "\u001b[2K   \u001b[90m━━━━━━━━━━━━━━━━━━━━━━━━━━━━━━━━━━━━━━━━\u001b[0m \u001b[32m1.0/1.0 MB\u001b[0m \u001b[31m10.9 MB/s\u001b[0m eta \u001b[36m0:00:00\u001b[0m:00:01\u001b[0m\n",
      "\u001b[?25hUsing cached async_timeout-4.0.3-py3-none-any.whl (5.7 kB)\n",
      "Downloading dataclasses_json-0.6.1-py3-none-any.whl (27 kB)\n",
      "Downloading jsonpatch-1.33-py2.py3-none-any.whl (12 kB)\n",
      "Downloading langsmith-0.0.44-py3-none-any.whl (40 kB)\n",
      "\u001b[2K   \u001b[90m━━━━━━━━━━━━━━━━━━━━━━━━━━━━━━━━━━━━━━━━\u001b[0m \u001b[32m40.1/40.1 kB\u001b[0m \u001b[31m4.4 MB/s\u001b[0m eta \u001b[36m0:00:00\u001b[0m\n",
      "\u001b[?25hDownloading SQLAlchemy-2.0.22-cp310-cp310-manylinux_2_17_x86_64.manylinux2014_x86_64.whl (3.0 MB)\n",
      "\u001b[2K   \u001b[90m━━━━━━━━━━━━━━━━━━━━━━━━━━━━━━━━━━━━━━━━\u001b[0m \u001b[32m3.0/3.0 MB\u001b[0m \u001b[31m84.1 MB/s\u001b[0m eta \u001b[36m0:00:00\u001b[0m\n",
      "\u001b[?25hUsing cached frozenlist-1.4.0-cp310-cp310-manylinux_2_5_x86_64.manylinux1_x86_64.manylinux_2_17_x86_64.manylinux2014_x86_64.whl (225 kB)\n",
      "Downloading greenlet-3.0.0-cp310-cp310-manylinux_2_24_x86_64.manylinux_2_28_x86_64.whl (612 kB)\n",
      "\u001b[2K   \u001b[90m━━━━━━━━━━━━━━━━━━━━━━━━━━━━━━━━━━━━━━━━\u001b[0m \u001b[32m612.9/612.9 kB\u001b[0m \u001b[31m76.9 MB/s\u001b[0m eta \u001b[36m0:00:00\u001b[0m\n",
      "\u001b[?25hDownloading marshmallow-3.20.1-py3-none-any.whl (49 kB)\n",
      "\u001b[2K   \u001b[90m━━━━━━━━━━━━━━━━━━━━━━━━━━━━━━━━━━━━━━━━\u001b[0m \u001b[32m49.4/49.4 kB\u001b[0m \u001b[31m14.6 MB/s\u001b[0m eta \u001b[36m0:00:00\u001b[0m\n",
      "\u001b[?25hDownloading typing_inspect-0.9.0-py3-none-any.whl (8.8 kB)\n",
      "Installing collected packages: mypy-extensions, multidict, jsonpatch, greenlet, frozenlist, async-timeout, yarl, typing-inspect, SQLAlchemy, marshmallow, aiosignal, langsmith, dataclasses-json, aiohttp, langchain\n",
      "Successfully installed SQLAlchemy-2.0.22 aiohttp-3.8.6 aiosignal-1.3.1 async-timeout-4.0.3 dataclasses-json-0.6.1 frozenlist-1.4.0 greenlet-3.0.0 jsonpatch-1.33 langchain-0.0.316 langsmith-0.0.44 marshmallow-3.20.1 multidict-6.0.4 mypy-extensions-1.0.0 typing-inspect-0.9.0 yarl-1.9.2\n",
      "Collecting nltk\n",
      "  Downloading nltk-3.8.1-py3-none-any.whl (1.5 MB)\n",
      "\u001b[2K     \u001b[90m━━━━━━━━━━━━━━━━━━━━━━━━━━━━━━━━━━━━━━━━\u001b[0m \u001b[32m1.5/1.5 MB\u001b[0m \u001b[31m25.4 MB/s\u001b[0m eta \u001b[36m0:00:00\u001b[0ma \u001b[36m0:00:01\u001b[0m\n",
      "\u001b[?25hRequirement already satisfied: click in /home/ec2-user/anaconda3/envs/pytorch_p310/lib/python3.10/site-packages (from nltk) (8.1.6)\n",
      "Requirement already satisfied: joblib in /home/ec2-user/anaconda3/envs/pytorch_p310/lib/python3.10/site-packages (from nltk) (1.3.1)\n",
      "Collecting regex>=2021.8.3 (from nltk)\n",
      "  Obtaining dependency information for regex>=2021.8.3 from https://files.pythonhosted.org/packages/8f/3e/4b8b40eb3c80aeaf360f0361d956d129bb3d23b2a3ecbe3a04a8f3bdd6d3/regex-2023.10.3-cp310-cp310-manylinux_2_17_x86_64.manylinux2014_x86_64.whl.metadata\n",
      "  Downloading regex-2023.10.3-cp310-cp310-manylinux_2_17_x86_64.manylinux2014_x86_64.whl.metadata (40 kB)\n",
      "\u001b[2K     \u001b[90m━━━━━━━━━━━━━━━━━━━━━━━━━━━━━━━━━━━━━━━━\u001b[0m \u001b[32m40.9/40.9 kB\u001b[0m \u001b[31m11.9 MB/s\u001b[0m eta \u001b[36m0:00:00\u001b[0m\n",
      "\u001b[?25hRequirement already satisfied: tqdm in /home/ec2-user/anaconda3/envs/pytorch_p310/lib/python3.10/site-packages (from nltk) (4.65.0)\n",
      "Downloading regex-2023.10.3-cp310-cp310-manylinux_2_17_x86_64.manylinux2014_x86_64.whl (773 kB)\n",
      "\u001b[2K   \u001b[90m━━━━━━━━━━━━━━━━━━━━━━━━━━━━━━━━━━━━━━━━\u001b[0m \u001b[32m773.9/773.9 kB\u001b[0m \u001b[31m48.9 MB/s\u001b[0m eta \u001b[36m0:00:00\u001b[0m\n",
      "\u001b[?25hInstalling collected packages: regex, nltk\n",
      "Successfully installed nltk-3.8.1 regex-2023.10.3\n"
     ]
    }
   ],
   "source": [
    "!pip install PyMuPDF\n",
    "!pip install langchain\n",
    "!pip install nltk"
   ]
  },
  {
   "cell_type": "code",
   "execution_count": 2,
   "id": "6dfd2a11",
   "metadata": {},
   "outputs": [
    {
     "name": "stderr",
     "output_type": "stream",
     "text": [
      "[nltk_data] Downloading package punkt to /home/ec2-user/nltk_data...\n",
      "[nltk_data]   Unzipping tokenizers/punkt.zip.\n"
     ]
    }
   ],
   "source": [
    "import os\n",
    "import boto3\n",
    "import fitz  # PyMuPDF\n",
    "import nltk\n",
    "from langchain.text_splitter import NLTKTextSplitter\n",
    "from langchain.embeddings import HuggingFaceEmbeddings\n",
    "nltk.download('punkt')\n",
    "from io import BytesIO\n",
    "import re\n"
   ]
  },
  {
   "cell_type": "code",
   "execution_count": 81,
   "id": "8f2c364e",
   "metadata": {},
   "outputs": [],
   "source": [
    "source_bucket = \"gen-ai-fargate-docu-gpt-document-bucket\"\n",
    "# source_key = \"HumanResourceDirectives.pdf\"\n",
    "source_key = \"Project Management Directives.pdf\""
   ]
  },
  {
   "cell_type": "code",
   "execution_count": 82,
   "id": "2680ea9b",
   "metadata": {},
   "outputs": [],
   "source": [
    "# Get the PDF object from the source bucket\n",
    "s3_client = boto3.client('s3')\n",
    "pdf_object = s3_client.get_object(Bucket=source_bucket, Key=source_key)"
   ]
  },
  {
   "cell_type": "markdown",
   "id": "56215fcd",
   "metadata": {},
   "source": [
    "## PDF to text for Chunking across pages\n"
   ]
  },
  {
   "cell_type": "code",
   "execution_count": 84,
   "id": "b4fcd7dc",
   "metadata": {},
   "outputs": [],
   "source": [
    "def pdf_to_text(input_pdf_object):\n",
    "    \"\"\"\n",
    "    Convert a PDF document into text and retrieve the starting indices of each page's content.\n",
    "\n",
    "    This function takes a PDF object and converts its content into plain text using PyMuPDF (fitz library).\n",
    "    It also calculates the starting indices of each page's content within the concatenated text.\n",
    "\n",
    "    Args:\n",
    "        input_pdf_object (dict): A dictionary-like object containing a 'Body' field representing\n",
    "                                the binary content of the PDF document.\n",
    "\n",
    "    Returns:\n",
    "        tuple: A tuple containing:\n",
    "            - text (str): The extracted plain text content from the PDF.\n",
    "            - page_start_indices (list): A list of integers representing the starting indices\n",
    "                                        of each page's content within the concatenated text.\n",
    "    \"\"\"\n",
    "    pdf_bytes = input_pdf_object['Body'].read()\n",
    "    pdf_document = fitz.open(stream=BytesIO(pdf_bytes), filetype=\"pdf\")\n",
    "    \n",
    "    text = \"\"\n",
    "    page_start_indices = [0]\n",
    "    for page_num in range(pdf_document.page_count):\n",
    "        page = pdf_document.load_page(page_num)\n",
    "        text += page.get_text()\n",
    "        page_start_indices.append(page_start_indices[-1] + len(page.get_text()))\n",
    "            \n",
    "    # Close the PDF document\n",
    "    pdf_document.close()\n",
    "    return text, page_start_indices"
   ]
  },
  {
   "cell_type": "code",
   "execution_count": 85,
   "id": "649ce2d8",
   "metadata": {},
   "outputs": [],
   "source": [
    "text,page_start_indices = pdf_to_text(pdf_object)"
   ]
  },
  {
   "cell_type": "code",
   "execution_count": 86,
   "id": "38efed6b",
   "metadata": {},
   "outputs": [],
   "source": [
    "def remove_extra_newlines(text):\n",
    "    \"\"\"\n",
    "    Remove extra newline characters from the given text.\n",
    "\n",
    "    Args:\n",
    "        text (str): The input text.\n",
    "\n",
    "    Returns:\n",
    "        str: The text with extra newline characters replaced by a single space.\n",
    "    \"\"\"\n",
    "    cleaned_text = re.sub(r'\\n+', ' ', text)\n",
    "    return cleaned_text"
   ]
  },
  {
   "cell_type": "code",
   "execution_count": 87,
   "id": "a472c3bf",
   "metadata": {},
   "outputs": [],
   "source": [
    "def split_text_chunks(text, page_start_indices,source_key):\n",
    "    \"\"\"\n",
    "    Split a large text into smaller chunks while preserving page-level metadata.\n",
    "\n",
    "    This function takes a large text and divides it into smaller chunks using the NLTKTextSplitter\n",
    "    with specified chunk size and overlap. It associates each chunk with its corresponding page\n",
    "    metadata from the provided page_start_indices.\n",
    "\n",
    "    Args:\n",
    "        text (str): The large text to be split into chunks.\n",
    "        page_start_indices (list): A list of integers representing the starting indices of each\n",
    "                                  page's content within the text.\n",
    "\n",
    "    Returns:\n",
    "        list: A list of dictionaries, where each dictionary contains:\n",
    "            - \"page_number\" (int): Page number (1-indexed) associated with the chunk.\n",
    "            - \"document_name\" (str): Name of the document the chunk is extracted from.\n",
    "            - \"text\" (str): The extracted chunk of text with extra newlines removed.\n",
    "    \"\"\"\n",
    "    text_splitter = NLTKTextSplitter(chunk_size=1500, chunk_overlap=40)\n",
    "    chunks = text_splitter.split_text(text)\n",
    "    \n",
    "    text_with_metadata = []\n",
    "    overall_length = 0\n",
    "    for chunk in chunks:\n",
    "        for i, j in enumerate(page_start_indices):\n",
    "            if j > overall_length:\n",
    "                # Extract page metadata\n",
    "                page_metadata = {\n",
    "                    \"page_number\": i,  # Page numbers are 1-indexed\n",
    "                    \"document_name\": source_key, \n",
    "                    \"text\": remove_extra_newlines(chunk)  # Define 'remove_extra_newlines' function\n",
    "                }\n",
    "                text_with_metadata.append(page_metadata)\n",
    "                break\n",
    "        overall_length += (len(chunk) - 5)  # 5 taken as compensation for overlap\n",
    "    return text_with_metadata\n",
    "\n",
    "        \n",
    "    "
   ]
  },
  {
   "cell_type": "code",
   "execution_count": 88,
   "id": "6ce8cb38",
   "metadata": {},
   "outputs": [],
   "source": [
    "chunked_content = split_text_chunks(text,page_start_indices, source_key)"
   ]
  },
  {
   "cell_type": "code",
   "execution_count": 23,
   "id": "af58bbff",
   "metadata": {},
   "outputs": [
    {
     "name": "stdout",
     "output_type": "stream",
     "text": [
      "Collecting opensearch-py\n",
      "  Obtaining dependency information for opensearch-py from https://files.pythonhosted.org/packages/03/e3/f1fa3cca5a568bdd0eb67c33a72fb7db1667bcfd4828cfef20f1c0e913bf/opensearch_py-2.3.2-py2.py3-none-any.whl.metadata\n",
      "  Downloading opensearch_py-2.3.2-py2.py3-none-any.whl.metadata (6.9 kB)\n",
      "Requirement already satisfied: urllib3>=1.26.9 in /home/ec2-user/anaconda3/envs/pytorch_p310/lib/python3.10/site-packages (from opensearch-py) (1.26.14)\n",
      "Requirement already satisfied: requests<3.0.0,>=2.4.0 in /home/ec2-user/anaconda3/envs/pytorch_p310/lib/python3.10/site-packages (from opensearch-py) (2.31.0)\n",
      "Requirement already satisfied: six in /home/ec2-user/anaconda3/envs/pytorch_p310/lib/python3.10/site-packages (from opensearch-py) (1.16.0)\n",
      "Requirement already satisfied: python-dateutil in /home/ec2-user/anaconda3/envs/pytorch_p310/lib/python3.10/site-packages (from opensearch-py) (2.8.2)\n",
      "Requirement already satisfied: certifi>=2022.12.07 in /home/ec2-user/anaconda3/envs/pytorch_p310/lib/python3.10/site-packages (from opensearch-py) (2023.5.7)\n",
      "Requirement already satisfied: charset-normalizer<4,>=2 in /home/ec2-user/anaconda3/envs/pytorch_p310/lib/python3.10/site-packages (from requests<3.0.0,>=2.4.0->opensearch-py) (3.2.0)\n",
      "Requirement already satisfied: idna<4,>=2.5 in /home/ec2-user/anaconda3/envs/pytorch_p310/lib/python3.10/site-packages (from requests<3.0.0,>=2.4.0->opensearch-py) (3.4)\n",
      "Downloading opensearch_py-2.3.2-py2.py3-none-any.whl (327 kB)\n",
      "\u001b[2K   \u001b[90m━━━━━━━━━━━━━━━━━━━━━━━━━━━━━━━━━━━━━━━━\u001b[0m \u001b[32m327.3/327.3 kB\u001b[0m \u001b[31m4.4 MB/s\u001b[0m eta \u001b[36m0:00:00\u001b[0mta \u001b[36m0:00:01\u001b[0m\n",
      "\u001b[?25hInstalling collected packages: opensearch-py\n",
      "Successfully installed opensearch-py-2.3.2\n"
     ]
    }
   ],
   "source": [
    "!pip install opensearch-py"
   ]
  },
  {
   "cell_type": "code",
   "execution_count": 24,
   "id": "a4946451",
   "metadata": {},
   "outputs": [
    {
     "name": "stdout",
     "output_type": "stream",
     "text": [
      "Collecting sentence_transformers\n",
      "  Downloading sentence-transformers-2.2.2.tar.gz (85 kB)\n",
      "\u001b[2K     \u001b[90m━━━━━━━━━━━━━━━━━━━━━━━━━━━━━━━━━━━━━━━━\u001b[0m \u001b[32m86.0/86.0 kB\u001b[0m \u001b[31m4.5 MB/s\u001b[0m eta \u001b[36m0:00:00\u001b[0m\n",
      "\u001b[?25h  Preparing metadata (setup.py) ... \u001b[?25ldone\n",
      "\u001b[?25hCollecting transformers<5.0.0,>=4.6.0 (from sentence_transformers)\n",
      "  Obtaining dependency information for transformers<5.0.0,>=4.6.0 from https://files.pythonhosted.org/packages/1a/d1/3bba59606141ae808017f6fde91453882f931957f125009417b87a281067/transformers-4.34.0-py3-none-any.whl.metadata\n",
      "  Downloading transformers-4.34.0-py3-none-any.whl.metadata (121 kB)\n",
      "\u001b[2K     \u001b[90m━━━━━━━━━━━━━━━━━━━━━━━━━━━━━━━━━━━━━━━\u001b[0m \u001b[32m121.5/121.5 kB\u001b[0m \u001b[31m4.9 MB/s\u001b[0m eta \u001b[36m0:00:00\u001b[0m\n",
      "\u001b[?25hRequirement already satisfied: tqdm in /home/ec2-user/anaconda3/envs/pytorch_p310/lib/python3.10/site-packages (from sentence_transformers) (4.65.0)\n",
      "Requirement already satisfied: torch>=1.6.0 in /home/ec2-user/anaconda3/envs/pytorch_p310/lib/python3.10/site-packages (from sentence_transformers) (2.0.1)\n",
      "Requirement already satisfied: torchvision in /home/ec2-user/anaconda3/envs/pytorch_p310/lib/python3.10/site-packages (from sentence_transformers) (0.15.2)\n",
      "Requirement already satisfied: numpy in /home/ec2-user/anaconda3/envs/pytorch_p310/lib/python3.10/site-packages (from sentence_transformers) (1.24.4)\n",
      "Requirement already satisfied: scikit-learn in /home/ec2-user/anaconda3/envs/pytorch_p310/lib/python3.10/site-packages (from sentence_transformers) (1.3.0)\n",
      "Requirement already satisfied: scipy in /home/ec2-user/anaconda3/envs/pytorch_p310/lib/python3.10/site-packages (from sentence_transformers) (1.11.1)\n",
      "Requirement already satisfied: nltk in /home/ec2-user/anaconda3/envs/pytorch_p310/lib/python3.10/site-packages (from sentence_transformers) (3.8.1)\n",
      "Collecting sentencepiece (from sentence_transformers)\n",
      "  Downloading sentencepiece-0.1.99-cp310-cp310-manylinux_2_17_x86_64.manylinux2014_x86_64.whl (1.3 MB)\n",
      "\u001b[2K     \u001b[90m━━━━━━━━━━━━━━━━━━━━━━━━━━━━━━━━━━━━━━━━\u001b[0m \u001b[32m1.3/1.3 MB\u001b[0m \u001b[31m9.5 MB/s\u001b[0m eta \u001b[36m0:00:00\u001b[0m:00:01\u001b[0m\n",
      "\u001b[?25hCollecting huggingface-hub>=0.4.0 (from sentence_transformers)\n",
      "  Obtaining dependency information for huggingface-hub>=0.4.0 from https://files.pythonhosted.org/packages/ef/b5/b6107bd65fa4c96fdf00e4733e2fe5729bb9e5e09997f63074bb43d3ab28/huggingface_hub-0.18.0-py3-none-any.whl.metadata\n",
      "  Downloading huggingface_hub-0.18.0-py3-none-any.whl.metadata (13 kB)\n",
      "Requirement already satisfied: filelock in /home/ec2-user/anaconda3/envs/pytorch_p310/lib/python3.10/site-packages (from huggingface-hub>=0.4.0->sentence_transformers) (3.12.2)\n",
      "Requirement already satisfied: fsspec>=2023.5.0 in /home/ec2-user/anaconda3/envs/pytorch_p310/lib/python3.10/site-packages (from huggingface-hub>=0.4.0->sentence_transformers) (2023.6.0)\n",
      "Requirement already satisfied: requests in /home/ec2-user/anaconda3/envs/pytorch_p310/lib/python3.10/site-packages (from huggingface-hub>=0.4.0->sentence_transformers) (2.31.0)\n",
      "Requirement already satisfied: pyyaml>=5.1 in /home/ec2-user/anaconda3/envs/pytorch_p310/lib/python3.10/site-packages (from huggingface-hub>=0.4.0->sentence_transformers) (6.0)\n",
      "Requirement already satisfied: typing-extensions>=3.7.4.3 in /home/ec2-user/anaconda3/envs/pytorch_p310/lib/python3.10/site-packages (from huggingface-hub>=0.4.0->sentence_transformers) (4.7.1)\n",
      "Requirement already satisfied: packaging>=20.9 in /home/ec2-user/anaconda3/envs/pytorch_p310/lib/python3.10/site-packages (from huggingface-hub>=0.4.0->sentence_transformers) (21.3)\n",
      "Requirement already satisfied: sympy in /home/ec2-user/anaconda3/envs/pytorch_p310/lib/python3.10/site-packages (from torch>=1.6.0->sentence_transformers) (1.12)\n",
      "Requirement already satisfied: networkx in /home/ec2-user/anaconda3/envs/pytorch_p310/lib/python3.10/site-packages (from torch>=1.6.0->sentence_transformers) (3.1)\n",
      "Requirement already satisfied: jinja2 in /home/ec2-user/anaconda3/envs/pytorch_p310/lib/python3.10/site-packages (from torch>=1.6.0->sentence_transformers) (3.1.2)\n",
      "Requirement already satisfied: regex!=2019.12.17 in /home/ec2-user/anaconda3/envs/pytorch_p310/lib/python3.10/site-packages (from transformers<5.0.0,>=4.6.0->sentence_transformers) (2023.10.3)\n",
      "Collecting tokenizers<0.15,>=0.14 (from transformers<5.0.0,>=4.6.0->sentence_transformers)\n",
      "  Obtaining dependency information for tokenizers<0.15,>=0.14 from https://files.pythonhosted.org/packages/a7/7b/c1f643eb086b6c5c33eef0c3752e37624bd23e4cbc9f1332748f1c6252d1/tokenizers-0.14.1-cp310-cp310-manylinux_2_17_x86_64.manylinux2014_x86_64.whl.metadata\n",
      "  Downloading tokenizers-0.14.1-cp310-cp310-manylinux_2_17_x86_64.manylinux2014_x86_64.whl.metadata (6.7 kB)\n",
      "Collecting safetensors>=0.3.1 (from transformers<5.0.0,>=4.6.0->sentence_transformers)\n",
      "  Obtaining dependency information for safetensors>=0.3.1 from https://files.pythonhosted.org/packages/20/4e/878b080dbda92666233ec6f316a53969edcb58eab1aa399a64d0521cf953/safetensors-0.4.0-cp310-cp310-manylinux_2_17_x86_64.manylinux2014_x86_64.whl.metadata\n",
      "  Downloading safetensors-0.4.0-cp310-cp310-manylinux_2_17_x86_64.manylinux2014_x86_64.whl.metadata (3.8 kB)\n",
      "Requirement already satisfied: click in /home/ec2-user/anaconda3/envs/pytorch_p310/lib/python3.10/site-packages (from nltk->sentence_transformers) (8.1.6)\n",
      "Requirement already satisfied: joblib in /home/ec2-user/anaconda3/envs/pytorch_p310/lib/python3.10/site-packages (from nltk->sentence_transformers) (1.3.1)\n",
      "Requirement already satisfied: threadpoolctl>=2.0.0 in /home/ec2-user/anaconda3/envs/pytorch_p310/lib/python3.10/site-packages (from scikit-learn->sentence_transformers) (3.2.0)\n",
      "Requirement already satisfied: pillow!=8.3.*,>=5.3.0 in /home/ec2-user/anaconda3/envs/pytorch_p310/lib/python3.10/site-packages (from torchvision->sentence_transformers) (10.0.0)\n",
      "Requirement already satisfied: pyparsing!=3.0.5,>=2.0.2 in /home/ec2-user/anaconda3/envs/pytorch_p310/lib/python3.10/site-packages (from packaging>=20.9->huggingface-hub>=0.4.0->sentence_transformers) (3.0.9)\n",
      "Collecting huggingface-hub>=0.4.0 (from sentence_transformers)\n",
      "  Obtaining dependency information for huggingface-hub>=0.4.0 from https://files.pythonhosted.org/packages/aa/f3/3fc97336a0e90516901befd4f500f08d691034d387406fdbde85bea827cc/huggingface_hub-0.17.3-py3-none-any.whl.metadata\n",
      "  Downloading huggingface_hub-0.17.3-py3-none-any.whl.metadata (13 kB)\n",
      "Requirement already satisfied: MarkupSafe>=2.0 in /home/ec2-user/anaconda3/envs/pytorch_p310/lib/python3.10/site-packages (from jinja2->torch>=1.6.0->sentence_transformers) (2.1.3)\n",
      "Requirement already satisfied: charset-normalizer<4,>=2 in /home/ec2-user/anaconda3/envs/pytorch_p310/lib/python3.10/site-packages (from requests->huggingface-hub>=0.4.0->sentence_transformers) (3.2.0)\n",
      "Requirement already satisfied: idna<4,>=2.5 in /home/ec2-user/anaconda3/envs/pytorch_p310/lib/python3.10/site-packages (from requests->huggingface-hub>=0.4.0->sentence_transformers) (3.4)\n",
      "Requirement already satisfied: urllib3<3,>=1.21.1 in /home/ec2-user/anaconda3/envs/pytorch_p310/lib/python3.10/site-packages (from requests->huggingface-hub>=0.4.0->sentence_transformers) (1.26.14)\n",
      "Requirement already satisfied: certifi>=2017.4.17 in /home/ec2-user/anaconda3/envs/pytorch_p310/lib/python3.10/site-packages (from requests->huggingface-hub>=0.4.0->sentence_transformers) (2023.5.7)\n",
      "Requirement already satisfied: mpmath>=0.19 in /home/ec2-user/anaconda3/envs/pytorch_p310/lib/python3.10/site-packages (from sympy->torch>=1.6.0->sentence_transformers) (1.3.0)\n",
      "Downloading transformers-4.34.0-py3-none-any.whl (7.7 MB)\n",
      "\u001b[2K   \u001b[90m━━━━━━━━━━━━━━━━━━━━━━━━━━━━━━━━━━━━━━━━\u001b[0m \u001b[32m7.7/7.7 MB\u001b[0m \u001b[31m39.8 MB/s\u001b[0m eta \u001b[36m0:00:00\u001b[0m:00:01\u001b[0m00:01\u001b[0m\n",
      "\u001b[?25hDownloading safetensors-0.4.0-cp310-cp310-manylinux_2_17_x86_64.manylinux2014_x86_64.whl (1.3 MB)\n",
      "\u001b[2K   \u001b[90m━━━━━━━━━━━━━━━━━━━━━━━━━━━━━━━━━━━━━━━━\u001b[0m \u001b[32m1.3/1.3 MB\u001b[0m \u001b[31m14.3 MB/s\u001b[0m eta \u001b[36m0:00:00\u001b[0m:00:01\u001b[0m\n",
      "\u001b[?25hDownloading tokenizers-0.14.1-cp310-cp310-manylinux_2_17_x86_64.manylinux2014_x86_64.whl (3.8 MB)\n",
      "\u001b[2K   \u001b[90m━━━━━━━━━━━━━━━━━━━━━━━━━━━━━━━━━━━━━━━━\u001b[0m \u001b[32m3.8/3.8 MB\u001b[0m \u001b[31m37.3 MB/s\u001b[0m eta \u001b[36m0:00:00\u001b[0m:00:01\u001b[0m\n",
      "\u001b[?25hDownloading huggingface_hub-0.17.3-py3-none-any.whl (295 kB)\n"
     ]
    },
    {
     "name": "stdout",
     "output_type": "stream",
     "text": [
      "\u001b[2K   \u001b[90m━━━━━━━━━━━━━━━━━━━━━━━━━━━━━━━━━━━━━━━━\u001b[0m \u001b[32m295.0/295.0 kB\u001b[0m \u001b[31m3.9 MB/s\u001b[0m eta \u001b[36m0:00:00\u001b[0mta \u001b[36m0:00:01\u001b[0m\n",
      "\u001b[?25hBuilding wheels for collected packages: sentence_transformers\n",
      "  Building wheel for sentence_transformers (setup.py) ... \u001b[?25ldone\n",
      "\u001b[?25h  Created wheel for sentence_transformers: filename=sentence_transformers-2.2.2-py3-none-any.whl size=125926 sha256=c5f047e5bb97168fe6dbe6a8f0f0b3ccc7bb0f4a16da9cc097ef98a164d79d24\n",
      "  Stored in directory: /home/ec2-user/.cache/pip/wheels/62/f2/10/1e606fd5f02395388f74e7462910fe851042f97238cbbd902f\n",
      "Successfully built sentence_transformers\n",
      "Installing collected packages: sentencepiece, safetensors, huggingface-hub, tokenizers, transformers, sentence_transformers\n",
      "Successfully installed huggingface-hub-0.17.3 safetensors-0.4.0 sentence_transformers-2.2.2 sentencepiece-0.1.99 tokenizers-0.14.1 transformers-4.34.0\n",
      "Collecting InstructorEmbedding\n",
      "  Obtaining dependency information for InstructorEmbedding from https://files.pythonhosted.org/packages/6c/fc/64375441f43cc9ddc81f76a1a8f516e6d63f5b6ecb67fffdcddc0445f0d3/InstructorEmbedding-1.0.1-py2.py3-none-any.whl.metadata\n",
      "  Downloading InstructorEmbedding-1.0.1-py2.py3-none-any.whl.metadata (20 kB)\n",
      "Downloading InstructorEmbedding-1.0.1-py2.py3-none-any.whl (19 kB)\n",
      "Installing collected packages: InstructorEmbedding\n",
      "Successfully installed InstructorEmbedding-1.0.1\n"
     ]
    }
   ],
   "source": [
    "# For embedding\n",
    "!pip install sentence_transformers\n",
    "!pip install InstructorEmbedding\n"
   ]
  },
  {
   "cell_type": "code",
   "execution_count": 25,
   "id": "2df0d340",
   "metadata": {},
   "outputs": [
    {
     "name": "stderr",
     "output_type": "stream",
     "text": [
      "/home/ec2-user/anaconda3/envs/pytorch_p310/lib/python3.10/site-packages/InstructorEmbedding/instructor.py:7: TqdmExperimentalWarning: Using `tqdm.autonotebook.tqdm` in notebook mode. Use `tqdm.tqdm` instead to force console mode (e.g. in jupyter console)\n",
      "  from tqdm.autonotebook import trange\n"
     ]
    }
   ],
   "source": [
    "from InstructorEmbedding import INSTRUCTOR\n"
   ]
  },
  {
   "cell_type": "code",
   "execution_count": 26,
   "id": "6e5b23c3",
   "metadata": {},
   "outputs": [],
   "source": [
    "from opensearchpy import OpenSearch, RequestsHttpConnection, AWSV4SignerAuth, helpers"
   ]
  },
  {
   "cell_type": "markdown",
   "id": "a351f29a",
   "metadata": {},
   "source": [
    "## OpenSearch Indexing"
   ]
  },
  {
   "cell_type": "code",
   "execution_count": 89,
   "id": "39225915",
   "metadata": {},
   "outputs": [],
   "source": [
    "# This code connects to the cluster.\n",
    "\n",
    "host = 'https://search-gen-ai-fargate-docu-gpt-os-bx2z3gdknkwpujlbnrnqedh3pe.us-west-2.es.amazonaws.com' # cluster endpoint, for example: my-test-domain.us-east-1.es.amazonaws.com\n",
    "port = 443\n",
    "region = 'us-west-2' # e.g. us-west-1\n",
    "\n",
    "\n",
    "credentials = (\"amit\",\"Amit1098$\")\n",
    "# credentials = boto3.Session().get_credentials()\n",
    "# auth = AWSV4SignerAuth(credentials, region)\n",
    "\n",
    "\n",
    "client = OpenSearch(\n",
    "    hosts = [f'{host}:{port}'],\n",
    "    http_auth = credentials,\n",
    "    use_ssl = True,\n",
    "    verify_certs = True,\n",
    "    connection_class = RequestsHttpConnection\n",
    ")\n"
   ]
  },
  {
   "cell_type": "code",
   "execution_count": 90,
   "id": "35788415",
   "metadata": {},
   "outputs": [],
   "source": [
    "info = client.info()"
   ]
  },
  {
   "cell_type": "code",
   "execution_count": 91,
   "id": "3fec9c9c",
   "metadata": {},
   "outputs": [],
   "source": [
    "# #defining index mapping with a k-nn vector\n",
    "# knn_index = {\n",
    "#     'settings': {\n",
    "#         'index.knn': True,\n",
    "#         'index.knn.space_type': 'cosinesimil',\n",
    "#     },\n",
    "#     'mappings': {\n",
    "#         'properties': {\n",
    "#             'embedding': {  # k-NN vector field\n",
    "#                 'type': 'knn_vector',\n",
    "#                 'dimension': 768  # Dimension of the vector\n",
    "#             },\n",
    "#             'chunk_text': {  # Instead of 'passage'\n",
    "#                 'type': 'text'\n",
    "#             },\n",
    "#             'page_number': {\n",
    "#                 'type': 'long'\n",
    "#             },\n",
    "#             'document_name': {\n",
    "#                 'type': 'keyword'\n",
    "#             }\n",
    "#         }\n",
    "#     }\n",
    "# }"
   ]
  },
  {
   "cell_type": "code",
   "execution_count": 94,
   "id": "a3f28572",
   "metadata": {},
   "outputs": [],
   "source": [
    "#defining index mapping with a APPROXIMATE k-nn vector\n",
    "knn_index = {\n",
    "    'settings': {\n",
    "        'index.knn': True,\n",
    "        'index.knn.algo_param.ef_search': 100,\n",
    "    },\n",
    "    'mappings': {\n",
    "        'properties': {\n",
    "            'embedding': {  # k-NN vector field\n",
    "                'type': 'knn_vector',\n",
    "                'dimension': 768, # Dimension of the vector\n",
    "                'method': {\n",
    "                    \"name\": \"hnsw\",\n",
    "                    \"space_type\": \"l2\",\n",
    "                    \"engine\": \"nmslib\",\n",
    "                    \"parameters\": {\n",
    "                      \"ef_construction\": 128,\n",
    "                      \"m\": 24\n",
    "                    }\n",
    "                }\n",
    "            },\n",
    "            'chunk_text': {  # Instead of 'passage'\n",
    "                'type': 'text'\n",
    "            },\n",
    "            'page_number': {\n",
    "                'type': 'long'\n",
    "            },\n",
    "            'document_name': {\n",
    "                'type': 'keyword'\n",
    "            },\n",
    "            'date': {\n",
    "                'type': 'date'\n",
    "            }\n",
    "        }\n",
    "    }\n",
    "}"
   ]
  },
  {
   "cell_type": "code",
   "execution_count": 95,
   "id": "1d0cf3f5",
   "metadata": {},
   "outputs": [
    {
     "name": "stdout",
     "output_type": "stream",
     "text": [
      "{'acknowledged': True, 'shards_acknowledged': True, 'index': 'amit-pdf-date-index'}\n"
     ]
    }
   ],
   "source": [
    "index_name = 'amit-pdf-date-index'\n",
    "index_body = knn_index\n",
    "response = client.indices.create(\n",
    "  index_name, \n",
    "  body=index_body\n",
    ")\n",
    "\n",
    "print(response)"
   ]
  },
  {
   "cell_type": "code",
   "execution_count": null,
   "id": "b79a954d",
   "metadata": {},
   "outputs": [],
   "source": []
  },
  {
   "cell_type": "code",
   "execution_count": 96,
   "id": "2c32b91c",
   "metadata": {},
   "outputs": [],
   "source": [
    "import random\n",
    "from datetime import datetime, timedelta\n",
    "\n",
    "def random_date(start_date, end_date):\n",
    "    \"\"\"\n",
    "    Generates a random date between start_date and end_date.\n",
    "    Arguments:\n",
    "    start_date (str): Start date in 'YYYY-MM-DD' format\n",
    "    end_date (str): End date in 'YYYY-MM-DD' format\n",
    "    Returns:\n",
    "    str: Random date in 'YYYY-MM-DD' format\n",
    "    \"\"\"\n",
    "    start_date = datetime.strptime(start_date, '%Y-%m-%d')\n",
    "    end_date = datetime.strptime(end_date, '%Y-%m-%d')\n",
    "    \n",
    "    random_date = start_date + timedelta(days=random.randint(0, (end_date - start_date).days))\n",
    "    return random_date.strftime('%Y-%m-%d')\n",
    "\n",
    "# Example usage\n",
    "start_date = '2023-01-01'\n",
    "end_date = '2023-12-31'\n",
    "\n"
   ]
  },
  {
   "cell_type": "code",
   "execution_count": 97,
   "id": "72491102",
   "metadata": {},
   "outputs": [
    {
     "name": "stdout",
     "output_type": "stream",
     "text": [
      "Random Date: 2023-07-15\n"
     ]
    }
   ],
   "source": [
    "random_date_generated = random_date(start_date, end_date)\n",
    "print(\"Random Date:\", random_date_generated)"
   ]
  },
  {
   "cell_type": "code",
   "execution_count": 98,
   "id": "97428b52",
   "metadata": {},
   "outputs": [
    {
     "name": "stdout",
     "output_type": "stream",
     "text": [
      "load INSTRUCTOR_Transformer\n",
      "max_seq_length  512\n"
     ]
    }
   ],
   "source": [
    "model = INSTRUCTOR('hkunlp/instructor-base')"
   ]
  },
  {
   "cell_type": "code",
   "execution_count": 99,
   "id": "a2690637",
   "metadata": {},
   "outputs": [],
   "source": [
    "def embed_chunks(chunked_content, model):\n",
    "    \"\"\"\n",
    "    Embed the text chunks using a specified embedding model.\n",
    "\n",
    "    This function takes a list of dictionaries representing text chunks, along with an embedding model.\n",
    "    It embeds the text content of each chunk using the provided model and adds the embeddings to the metadata.\n",
    "\n",
    "    Args:\n",
    "        chunked_content (list): A list of dictionaries, where each dictionary contains:\n",
    "            - \"page_number\" (int): Page number associated with the chunk.\n",
    "            - \"document_name\" (str): Name of the document the chunk is extracted from.\n",
    "            - \"chunk_text\" (str): The text content of the chunk.\n",
    "\n",
    "        model: The embedding model used to encode the text content.\n",
    "\n",
    "    Returns:\n",
    "        list: A list of dictionaries, each containing the original metadata along with the added \"embedding\".\n",
    "\n",
    "    Note:\n",
    "        The `model` should have a method called `encode` that takes text as input and returns its embedding.\n",
    "    \"\"\"\n",
    "    embeded_content = []\n",
    "    for chunk in chunked_content:\n",
    "        embeded_metadata = {\n",
    "            \"page_number\": chunk[\"page_number\"],\n",
    "            \"document_name\": chunk[\"document_name\"],\n",
    "            \"chunk_text\": chunk[\"text\"],\n",
    "            \"embedding\": model.encode(chunk[\"text\"]),\n",
    "            \"date\": random_date(start_date, end_date)\n",
    "        }\n",
    "        embeded_content.append(embeded_metadata)\n",
    "    return embeded_content    "
   ]
  },
  {
   "cell_type": "code",
   "execution_count": 100,
   "id": "b8ee20d8",
   "metadata": {},
   "outputs": [],
   "source": [
    "docs = embed_chunks(chunked_content,model)"
   ]
  },
  {
   "cell_type": "code",
   "execution_count": 101,
   "id": "e4552104",
   "metadata": {},
   "outputs": [],
   "source": [
    "def prepare_data_for_indexing(docs, index):\n",
    "    \"\"\"\n",
    "    Prepare a list of documents for indexing in a search engine.\n",
    "\n",
    "    This function takes a list of dictionaries representing documents and adds the specified index\n",
    "    field to each document, making them ready for indexing in a search engine.\n",
    "\n",
    "    Args:\n",
    "        docs (list): A list of dictionaries, where each dictionary represents a document.\n",
    "        index (str): The name of the index in the search engine where the documents will be indexed.\n",
    "\n",
    "    Returns:\n",
    "        list: A list of dictionaries, each containing the original document data along with the added \"_index\" field.\n",
    "    \"\"\"\n",
    "    for i in range(len(docs)):\n",
    "        docs[i][\"_index\"] = index\n",
    "    return docs"
   ]
  },
  {
   "cell_type": "code",
   "execution_count": 102,
   "id": "bb0aae7c",
   "metadata": {},
   "outputs": [],
   "source": [
    "docs = prepare_data_for_indexing(docs, index_name)"
   ]
  },
  {
   "cell_type": "code",
   "execution_count": 103,
   "id": "d0c08f03",
   "metadata": {},
   "outputs": [
    {
     "name": "stdout",
     "output_type": "stream",
     "text": [
      "(16, [])\n"
     ]
    }
   ],
   "source": [
    "# %%time\n",
    "# docs = [\n",
    "#     { \"_index\": \"words\", \"_id\": \"word1\", word: \"foo\" },\n",
    "#     { \"_index\": \"words\", \"_id\": \"word2\", word: \"bar\" },\n",
    "#     { \"_index\": \"words\", \"_id\": \"word3\", word: \"baz\" },\n",
    "# ]\n",
    "\n",
    "\n",
    "\n",
    "response = helpers.bulk(client, docs, max_retries=3)\n",
    "print(response)"
   ]
  },
  {
   "cell_type": "markdown",
   "id": "61726a3f",
   "metadata": {},
   "source": [
    "## See how many documents in the index"
   ]
  },
  {
   "cell_type": "code",
   "execution_count": 73,
   "id": "8a0c1942",
   "metadata": {},
   "outputs": [
    {
     "name": "stdout",
     "output_type": "stream",
     "text": [
      "Total Hits:  32\n"
     ]
    }
   ],
   "source": [
    "# search for all documents in the 'amit-pdf-index' index\n",
    "response = client.search(index=index_name)\n",
    "\n",
    "# extract the count of hits from the response\n",
    "hits_count = response['hits']['total']['value']\n",
    "\n",
    "\n",
    "# print the count of hits\n",
    "print(\"Total Hits: \", hits_count)"
   ]
  },
  {
   "cell_type": "code",
   "execution_count": 32,
   "id": "bb8f503a",
   "metadata": {},
   "outputs": [],
   "source": [
    "# # define the query\n",
    "# query = {\n",
    "#     \"query\": {\n",
    "#         \"match\": {\n",
    "#             \"title\": \"dark knight\"\n",
    "#         }\n",
    "#     }\n",
    "# }\n",
    "\n",
    "# # search for documents in the 'movies' index with the given query\n",
    "# response = client.search(index='movies', body=query)\n",
    "\n",
    "# # extract the hits from the response\n",
    "# hits = response['hits']['hits']\n",
    "\n",
    "# # print the hits\n",
    "# for hit in hits:\n",
    "#     print(hit)"
   ]
  },
  {
   "cell_type": "markdown",
   "id": "1bafe47a",
   "metadata": {},
   "source": [
    "## Query"
   ]
  },
  {
   "cell_type": "code",
   "execution_count": 104,
   "id": "81dcfde6",
   "metadata": {},
   "outputs": [],
   "source": [
    "def get_user_query_embeddings(query, model):\n",
    "    \"\"\"\n",
    "    Encode a user query into an embedding using a specified embedding model.\n",
    "\n",
    "    This function takes a user query and an embedding model and encodes the query text into an embedding\n",
    "    using the provided model.\n",
    "\n",
    "    Args:\n",
    "        query (str): The user's query text to be encoded into an embedding.\n",
    "        model: The embedding model used to encode the query text.\n",
    "\n",
    "    Returns:\n",
    "        numpy.ndarray: An embedding representing the encoded user query.\n",
    "        \n",
    "    Note:\n",
    "        The `model` should have a method called `encode` that takes text as input and returns its embedding.\n",
    "    \"\"\"\n",
    "    return model.encode(query)\n"
   ]
  },
  {
   "cell_type": "code",
   "execution_count": 105,
   "id": "9049ce17",
   "metadata": {},
   "outputs": [],
   "source": [
    "query_question = 'who are the involved stakeholders for the first process in development stage?'\n",
    "query_embedding =  get_user_query_embeddings(query_question, model)"
   ]
  },
  {
   "cell_type": "code",
   "execution_count": 128,
   "id": "2dd27a12",
   "metadata": {},
   "outputs": [],
   "source": [
    "query={\n",
    "    \"size\": 5,\n",
    "    \"query\": {\n",
    "        \"knn\": {\n",
    "            \"embedding\":{\n",
    "                \"vector\":query_embedding,\n",
    "                \"k\":5\n",
    "            }\n",
    "        }\n",
    "    }, \"_source\": False,\n",
    "    \"fields\": [\"page_number\",\"document_name\",\"chunk_text\",\"date\"],\n",
    "    \n",
    "    \n",
    "}\n",
    "\n"
   ]
  },
  {
   "cell_type": "code",
   "execution_count": null,
   "id": "967c99dc",
   "metadata": {},
   "outputs": [],
   "source": []
  },
  {
   "cell_type": "code",
   "execution_count": 129,
   "id": "1c0fad48",
   "metadata": {
    "scrolled": true
   },
   "outputs": [
    {
     "data": {
      "text/plain": [
       "[{'_index': 'amit-pdf-date-index',\n",
       "  '_id': 'Q0Y6QYsBknONgm9nPZC8',\n",
       "  '_score': 0.82543784,\n",
       "  'fields': {'date': ['2023-01-14T00:00:00.000Z'],\n",
       "   'document_name': ['Project Management Directives.pdf'],\n",
       "   'page_number': [2],\n",
       "   'chunk_text': [\"The project scope will be documented in the project scope statement, which will provide a clear understanding of the project's boundaries and deliverables. Scope of Work List the scope Must have Should have Could have Will not have Date: Remarks:(if any) Fig: Project Scope Template 3. Identify Project Stakeholders: The PMO office will identify the key stakeholders who are involved in the project and establish a communication plan to ensure that stakeholders are kept informed of project progress. The communication plan should include the frequency, format, and content of project status reports. Here is the list of involved stakeholders for the first process in development stage:: a. Product Owner b. Business Development Officer c. Project Manager d. Backend Developer e. Frontend Developer f. Dev Ops Engineer g. Communications Officer h. Add on as you go 4. RACI Matrix: After having the general overview of the client’s we have the Responsibility, Accountable,Consulted, Informed (RACI) matrix. RACI matrix is just a responsibility assignment matrix. In practice, it’s a simple spreadsheet or table that lists all stakeholders on a project and their level involvement in each task, denoted with the letters R, A, C or I. The RACI matrix for the __________________ is as follows Note: It can be modified as per the client's need.\"]}},\n",
       " {'_index': 'amit-pdf-date-index',\n",
       "  '_id': 'QkY6QYsBknONgm9nPZC8',\n",
       "  '_score': 0.8229127,\n",
       "  'fields': {'date': ['2023-05-13T00:00:00.000Z'],\n",
       "   'document_name': ['Project Management Directives.pdf'],\n",
       "   'page_number': [1],\n",
       "   'chunk_text': [\"It is expected that all PMO office personnel will follow the procedures and guidelines outlined in this SOP to ensure that all projects are managed in a consistent and efficient manner. The PMO office will also continuously review and improve its processes to ensure that they are aligned with the needs of the company and its clients. Project Initiation & Planning The first step in managing a project is project initiation, which is the process of defining the project's scope, timeline, and budget. The goal of project initiation is to establish a clear understanding of the project's objectives, stakeholders, and constraints, and to develop a plan for how the project will be executed. The following are the key steps involved in project initiation: 1. Identify Project Objectives: The PMO office will work with the client to define the project objectives, which should be Specific, Measurable, Achievable, Relevant, and Time-bound (SMART). The project objectives will be documented in the project charter, which will serve as the guiding document for the project. List the general Project Objectives: The project should ease the way of doing business for this business process 2. Project Scope Define Project Scope: The PMO office will work with the client to define the project scope, which includes the work that needs to be done to achieve the project objectives.\"]}},\n",
       " {'_index': 'amit-pdf-date-index',\n",
       "  '_id': 'REY6QYsBknONgm9nPZC8',\n",
       "  '_score': 0.8042361,\n",
       "  'fields': {'date': ['2023-01-24T00:00:00.000Z'],\n",
       "   'document_name': ['Project Management Directives.pdf'],\n",
       "   'page_number': [3],\n",
       "   'chunk_text': [\"Task Product Owner Project Manager Dev Ops Engineer Front End Backend QA Task 1 Informed Responsibi lity Consulted Responsibi lity Responsibi lity Accountabl e Fig: RACI Matrix 5. Develop Project Schedule: The PMO office will develop a project schedule that includes the key milestones, activities, and dependencies required to complete the project. The project schedule will be documented in the project management plan, which will provide a roadmap for the project. Gantt charts from jira 6. Define Project Budget: The PMO office will work with the client to establish a project budget that includes all of the costs associated with the project, including personnel, materials, and other resources. The project budget will be documented in the project management plan. 7. Create JIRA Board: The PMO office will create a JIRA project for the project, configure project settings, and define custom fields, workflows, and issue types as necessary. 8. Project Constraint: A constraint in project management, is any restriction that defines a project limitations. List any Project Constraints that may arise during the projects: ● Constraint 1 ● Constraint 2 ● Constraint 3 Once the project initiation and planning phase is complete, the PMO office will have a clear understanding of the project's objectives, scope, timeline, budget, and stakeholders.\"]}},\n",
       " {'_index': 'amit-pdf-date-index',\n",
       "  '_id': 'TEY6QYsBknONgm9nPZC8',\n",
       "  '_score': 0.7959017,\n",
       "  'fields': {'date': ['2023-10-30T00:00:00.000Z'],\n",
       "   'document_name': ['Project Management Directives.pdf'],\n",
       "   'page_number': [9],\n",
       "   'chunk_text': ['2. Use Standard Issue Types: The PMO office will use standard JIRA issue types, such as Bug, Story, Task, and Epic. This ensures consistency and facilitates reporting and analysis. ● Product Backlog: Product Backlog is defined in JIRA SN Product backlog 1. Product backlog 1 ● Project Dependencies The PMO office shall be able to decide upon the dependencies as to decide which task to prioritize firstly ● Milestone: Examples of milestones Include: i. Figma Design approved ii. Project Charter approved iii. CRUD operation for user completed 3. Use Standard Workflows: The PMO will use standard JIRA workflows, such as To Do, In Progress, and Done. This helps to ensure that the team is following a consistent process and that issues are being tracked and resolved in a timely manner. 4. Define Acceptance Criteria: The PMO office will define clear acceptance criteria for each issue, which will be used to ensure that the work is completed to the satisfaction of the client. Acceptance criteria should be defined for each user story or task and should be included in the issue description. 5. Use Agile Boards: The PMO office will use JIRA Agile boards to manage the backlog, plan sprints, and track progress. This includes using the backlog, sprint, and active sprints views to manage work items, and using the board configuration to customize the board for each project. 6.']}},\n",
       " {'_index': 'amit-pdf-date-index',\n",
       "  '_id': 'S0Y6QYsBknONgm9nPZC8',\n",
       "  '_score': 0.7871158,\n",
       "  'fields': {'date': ['2023-04-14T00:00:00.000Z'],\n",
       "   'document_name': ['Project Management Directives.pdf'],\n",
       "   'page_number': [8],\n",
       "   'chunk_text': [\"This includes identifying and addressing issues that may be affecting the team's productivity or performance, and working with stakeholders to resolve any conflicts that may arise. 5. Foster Collaboration: The Scrum Master fosters collaboration and communication among team members and with stakeholders. This includes encouraging open communication, facilitating discussions, and promoting a culture of transparency and trust. 6. Ensure Team is Committed: The Scrum Master ensures that the team is committed to achieving the goals of the Sprint and that they have the necessary resources and support to do so. This includes monitoring the team's progress and performance, and providing feedback and guidance as necessary. By fulfilling these duties, the Scrum Master helps to ensure that the team is working effectively and efficiently and that the project is completed on time, within budget, and to the satisfaction of the client. JIRA Usage JIRA is a project management tool that is widely used in Agile software development. The tool is used to plan, track, and manage projects, and provides features for issue tracking, sprint planning, and reporting. The following are the key guidelines for JIRA usage in your PMO office: 1. Create Projects and Issues: The PMO office will create JIRA projects and issues for each project that it manages. This includes configuring the project settings, defining custom fields, and creating issue types and workflows as necessary. 2.\"]}}]"
      ]
     },
     "execution_count": 129,
     "metadata": {},
     "output_type": "execute_result"
    }
   ],
   "source": [
    "result = client.search(index=index_name, body=query)\n",
    "search_results = result['hits']['hits']\n",
    "search_results"
   ]
  },
  {
   "cell_type": "markdown",
   "id": "6ac35765",
   "metadata": {},
   "source": [
    "## Sorting the top n search results"
   ]
  },
  {
   "cell_type": "code",
   "execution_count": 111,
   "id": "a948d153",
   "metadata": {},
   "outputs": [],
   "source": [
    "def sort_json_by_date(json_data):\n",
    "    sorted_json = sorted(json_data, key=lambda x: x['fields'][\"date\"],reverse=True)\n",
    "    return sorted_json"
   ]
  },
  {
   "cell_type": "code",
   "execution_count": 112,
   "id": "515a81ca",
   "metadata": {
    "scrolled": true
   },
   "outputs": [
    {
     "data": {
      "text/plain": [
       "[{'_index': 'amit-pdf-date-index',\n",
       "  '_id': 'TEY6QYsBknONgm9nPZC8',\n",
       "  '_score': 0.7959017,\n",
       "  'fields': {'date': ['2023-10-30T00:00:00.000Z'],\n",
       "   'document_name': ['Project Management Directives.pdf'],\n",
       "   'page_number': [9],\n",
       "   'chunk_text': ['2. Use Standard Issue Types: The PMO office will use standard JIRA issue types, such as Bug, Story, Task, and Epic. This ensures consistency and facilitates reporting and analysis. ● Product Backlog: Product Backlog is defined in JIRA SN Product backlog 1. Product backlog 1 ● Project Dependencies The PMO office shall be able to decide upon the dependencies as to decide which task to prioritize firstly ● Milestone: Examples of milestones Include: i. Figma Design approved ii. Project Charter approved iii. CRUD operation for user completed 3. Use Standard Workflows: The PMO will use standard JIRA workflows, such as To Do, In Progress, and Done. This helps to ensure that the team is following a consistent process and that issues are being tracked and resolved in a timely manner. 4. Define Acceptance Criteria: The PMO office will define clear acceptance criteria for each issue, which will be used to ensure that the work is completed to the satisfaction of the client. Acceptance criteria should be defined for each user story or task and should be included in the issue description. 5. Use Agile Boards: The PMO office will use JIRA Agile boards to manage the backlog, plan sprints, and track progress. This includes using the backlog, sprint, and active sprints views to manage work items, and using the board configuration to customize the board for each project. 6.']}},\n",
       " {'_index': 'amit-pdf-date-index',\n",
       "  '_id': 'QkY6QYsBknONgm9nPZC8',\n",
       "  '_score': 0.8229127,\n",
       "  'fields': {'date': ['2023-05-13T00:00:00.000Z'],\n",
       "   'document_name': ['Project Management Directives.pdf'],\n",
       "   'page_number': [1],\n",
       "   'chunk_text': [\"It is expected that all PMO office personnel will follow the procedures and guidelines outlined in this SOP to ensure that all projects are managed in a consistent and efficient manner. The PMO office will also continuously review and improve its processes to ensure that they are aligned with the needs of the company and its clients. Project Initiation & Planning The first step in managing a project is project initiation, which is the process of defining the project's scope, timeline, and budget. The goal of project initiation is to establish a clear understanding of the project's objectives, stakeholders, and constraints, and to develop a plan for how the project will be executed. The following are the key steps involved in project initiation: 1. Identify Project Objectives: The PMO office will work with the client to define the project objectives, which should be Specific, Measurable, Achievable, Relevant, and Time-bound (SMART). The project objectives will be documented in the project charter, which will serve as the guiding document for the project. List the general Project Objectives: The project should ease the way of doing business for this business process 2. Project Scope Define Project Scope: The PMO office will work with the client to define the project scope, which includes the work that needs to be done to achieve the project objectives.\"]}},\n",
       " {'_index': 'amit-pdf-date-index',\n",
       "  '_id': 'S0Y6QYsBknONgm9nPZC8',\n",
       "  '_score': 0.7871158,\n",
       "  'fields': {'date': ['2023-04-14T00:00:00.000Z'],\n",
       "   'document_name': ['Project Management Directives.pdf'],\n",
       "   'page_number': [8],\n",
       "   'chunk_text': [\"This includes identifying and addressing issues that may be affecting the team's productivity or performance, and working with stakeholders to resolve any conflicts that may arise. 5. Foster Collaboration: The Scrum Master fosters collaboration and communication among team members and with stakeholders. This includes encouraging open communication, facilitating discussions, and promoting a culture of transparency and trust. 6. Ensure Team is Committed: The Scrum Master ensures that the team is committed to achieving the goals of the Sprint and that they have the necessary resources and support to do so. This includes monitoring the team's progress and performance, and providing feedback and guidance as necessary. By fulfilling these duties, the Scrum Master helps to ensure that the team is working effectively and efficiently and that the project is completed on time, within budget, and to the satisfaction of the client. JIRA Usage JIRA is a project management tool that is widely used in Agile software development. The tool is used to plan, track, and manage projects, and provides features for issue tracking, sprint planning, and reporting. The following are the key guidelines for JIRA usage in your PMO office: 1. Create Projects and Issues: The PMO office will create JIRA projects and issues for each project that it manages. This includes configuring the project settings, defining custom fields, and creating issue types and workflows as necessary. 2.\"]}},\n",
       " {'_index': 'amit-pdf-date-index',\n",
       "  '_id': 'REY6QYsBknONgm9nPZC8',\n",
       "  '_score': 0.8042361,\n",
       "  'fields': {'date': ['2023-01-24T00:00:00.000Z'],\n",
       "   'document_name': ['Project Management Directives.pdf'],\n",
       "   'page_number': [3],\n",
       "   'chunk_text': [\"Task Product Owner Project Manager Dev Ops Engineer Front End Backend QA Task 1 Informed Responsibi lity Consulted Responsibi lity Responsibi lity Accountabl e Fig: RACI Matrix 5. Develop Project Schedule: The PMO office will develop a project schedule that includes the key milestones, activities, and dependencies required to complete the project. The project schedule will be documented in the project management plan, which will provide a roadmap for the project. Gantt charts from jira 6. Define Project Budget: The PMO office will work with the client to establish a project budget that includes all of the costs associated with the project, including personnel, materials, and other resources. The project budget will be documented in the project management plan. 7. Create JIRA Board: The PMO office will create a JIRA project for the project, configure project settings, and define custom fields, workflows, and issue types as necessary. 8. Project Constraint: A constraint in project management, is any restriction that defines a project limitations. List any Project Constraints that may arise during the projects: ● Constraint 1 ● Constraint 2 ● Constraint 3 Once the project initiation and planning phase is complete, the PMO office will have a clear understanding of the project's objectives, scope, timeline, budget, and stakeholders.\"]}},\n",
       " {'_index': 'amit-pdf-date-index',\n",
       "  '_id': 'Q0Y6QYsBknONgm9nPZC8',\n",
       "  '_score': 0.82543784,\n",
       "  'fields': {'date': ['2023-01-14T00:00:00.000Z'],\n",
       "   'document_name': ['Project Management Directives.pdf'],\n",
       "   'page_number': [2],\n",
       "   'chunk_text': [\"The project scope will be documented in the project scope statement, which will provide a clear understanding of the project's boundaries and deliverables. Scope of Work List the scope Must have Should have Could have Will not have Date: Remarks:(if any) Fig: Project Scope Template 3. Identify Project Stakeholders: The PMO office will identify the key stakeholders who are involved in the project and establish a communication plan to ensure that stakeholders are kept informed of project progress. The communication plan should include the frequency, format, and content of project status reports. Here is the list of involved stakeholders for the first process in development stage:: a. Product Owner b. Business Development Officer c. Project Manager d. Backend Developer e. Frontend Developer f. Dev Ops Engineer g. Communications Officer h. Add on as you go 4. RACI Matrix: After having the general overview of the client’s we have the Responsibility, Accountable,Consulted, Informed (RACI) matrix. RACI matrix is just a responsibility assignment matrix. In practice, it’s a simple spreadsheet or table that lists all stakeholders on a project and their level involvement in each task, denoted with the letters R, A, C or I. The RACI matrix for the __________________ is as follows Note: It can be modified as per the client's need.\"]}}]"
      ]
     },
     "execution_count": 112,
     "metadata": {},
     "output_type": "execute_result"
    }
   ],
   "source": [
    "sort_json_by_date(search_results)"
   ]
  },
  {
   "cell_type": "markdown",
   "id": "691a3f6b",
   "metadata": {},
   "source": [
    "## Simply sorting by date"
   ]
  },
  {
   "cell_type": "code",
   "execution_count": 130,
   "id": "b723d937",
   "metadata": {},
   "outputs": [],
   "source": [
    "query={\n",
    "    \"size\": 5,\n",
    "    \"query\": {\n",
    "        \"knn\": {\n",
    "            \"embedding\":{\n",
    "                \"vector\":query_embedding,\n",
    "                \"k\":5\n",
    "            }\n",
    "        }\n",
    "    }, \"_source\": False,\n",
    "    \"sort\": [\n",
    "        {\n",
    "            \"date\": {\n",
    "                \"order\": \"desc\"\n",
    "            }\n",
    "        }\n",
    "    ],\n",
    "    \"fields\": [\"page_number\",\"document_name\",\"chunk_text\",\"date\"],\n",
    "    \n",
    "    \n",
    "}"
   ]
  },
  {
   "cell_type": "code",
   "execution_count": 131,
   "id": "00a41acb",
   "metadata": {},
   "outputs": [
    {
     "data": {
      "text/plain": [
       "[{'_index': 'amit-pdf-date-index',\n",
       "  '_id': 'SEY6QYsBknONgm9nPZC8',\n",
       "  '_score': None,\n",
       "  'fields': {'date': ['2023-12-14T00:00:00.000Z'],\n",
       "   'document_name': ['Project Management Directives.pdf'],\n",
       "   'page_number': [6],\n",
       "   'chunk_text': [\"Note: The format and content of the worklog can vary depending on the client's requirements and the needs of the project. It is important to establish clear guidelines for the worklog to ensure consistency and accuracy. Financial Viability Financial viability is the process of evaluating the financial performance of support resources to ensure that they are contributing positively to the company's bottom line. The goal of financial viability is to ensure that the company is allocating its resources effectively and efficiently, and that its operations are financially sustainable. The following are the key steps involved in financial viability: 1. Identify Support Resources: The PMO office will identify the support resources that are being used for the project. This includes personnel, materials, and other resources. 2. Track Revenue Generated: The PMO office will track the revenue generated by support resources to determine their financial contribution to the project and to the company. This includes comparing the revenue generated to the costs associated with the resources. 3. Monitor Utilization Rate: The PMO office will monitor the utilization rate of support resources to ensure that they are being used efficiently. This includes comparing the amount of time that the resources are being used to the amount of time that they are available. 4.\"]},\n",
       "  'sort': [1702512000000]},\n",
       " {'_index': 'amit-pdf-date-index',\n",
       "  '_id': 'TEY6QYsBknONgm9nPZC8',\n",
       "  '_score': None,\n",
       "  'fields': {'date': ['2023-10-30T00:00:00.000Z'],\n",
       "   'document_name': ['Project Management Directives.pdf'],\n",
       "   'page_number': [9],\n",
       "   'chunk_text': ['2. Use Standard Issue Types: The PMO office will use standard JIRA issue types, such as Bug, Story, Task, and Epic. This ensures consistency and facilitates reporting and analysis. ● Product Backlog: Product Backlog is defined in JIRA SN Product backlog 1. Product backlog 1 ● Project Dependencies The PMO office shall be able to decide upon the dependencies as to decide which task to prioritize firstly ● Milestone: Examples of milestones Include: i. Figma Design approved ii. Project Charter approved iii. CRUD operation for user completed 3. Use Standard Workflows: The PMO will use standard JIRA workflows, such as To Do, In Progress, and Done. This helps to ensure that the team is following a consistent process and that issues are being tracked and resolved in a timely manner. 4. Define Acceptance Criteria: The PMO office will define clear acceptance criteria for each issue, which will be used to ensure that the work is completed to the satisfaction of the client. Acceptance criteria should be defined for each user story or task and should be included in the issue description. 5. Use Agile Boards: The PMO office will use JIRA Agile boards to manage the backlog, plan sprints, and track progress. This includes using the backlog, sprint, and active sprints views to manage work items, and using the board configuration to customize the board for each project. 6.']},\n",
       "  'sort': [1698624000000]},\n",
       " {'_index': 'amit-pdf-date-index',\n",
       "  '_id': 'T0Y6QYsBknONgm9nPZC8',\n",
       "  '_score': None,\n",
       "  'fields': {'date': ['2023-09-22T00:00:00.000Z'],\n",
       "   'document_name': ['Project Management Directives.pdf'],\n",
       "   'page_number': [11],\n",
       "   'chunk_text': ['The project plan will be documented in the project management plan. 2. Monitor Project Progress: The PMO office will monitor project progress to ensure that the project is on track to meet its objectives, and to identify and address any issues or risks that may arise. This includes monitoring the project schedule, budget, and quality, as well as the performance of the project team. 3. Control Project Execution: The PMO office will control project execution to ensure that the project is being executed in accordance with the project plan. This includes monitoring the project schedule, budget, and quality, as well as the performance of the project team, and taking corrective action as necessary. 4. Manage Project Changes: The PMO office will manage project changes to ensure that the project stays on track and within the defined scope, timeline, and budget. This includes evaluating change requests, assessing their impact on the project, and making decisions about whether to approve or reject the changes. 5. Report Project Status: The PMO office will report project status to the client on a regular basis, using the weekly worklog and other project management tools. This includes providing updates on project progress, highlighting any issues or risks, and outlining the next steps for the project. 6. (Close Project: The PMO office will close the project once all of the project objectives have been met and the client is satisfied with the deliverables.']},\n",
       "  'sort': [1695340800000]},\n",
       " {'_index': 'amit-pdf-date-index',\n",
       "  '_id': 'UEY6QYsBknONgm9nPZC8',\n",
       "  '_score': None,\n",
       "  'fields': {'date': ['2023-09-07T00:00:00.000Z'],\n",
       "   'document_name': ['Project Management Directives.pdf'],\n",
       "   'page_number': [12],\n",
       "   'chunk_text': ['This includes documenting the project results, archiving project documents, and conducting a project post-mortem to identify areas for improvement.) By following these steps, the PMO office can ensure that the project is managed effectively and efficiently, and that the project is completed on time, within budget, and to the satisfaction of the client. Project management is a critical component of successful project delivery, and by using established project management practices and tools, the PMO office can help to ensure that its projects are successful. Project Closing: A project is considered completed when all the required deliverables are completed, tested and all the issues have been resolved and the project completion document is signed by the stakeholders. The project retrospective is completed to evaluate the project so it can be used as reference for future. Here are the key elements of project handover: ● The scope has been met which was discussed during the project planning ● The support plan for maintenance is finalized (if required) ● Releasing project resources (Human/Material) ● Measuring Client satisfaction ● Project Closure Report ● User Manual ● Process flow (From login to logout[if necessary])']},\n",
       "  'sort': [1694044800000]},\n",
       " {'_index': 'amit-pdf-date-index',\n",
       "  '_id': 'R0Y6QYsBknONgm9nPZC8',\n",
       "  '_score': None,\n",
       "  'fields': {'date': ['2023-08-01T00:00:00.000Z'],\n",
       "   'document_name': ['Project Management Directives.pdf'],\n",
       "   'page_number': [6],\n",
       "   'chunk_text': ['Define Worklog Format: The PMO office will define the format and content of the worklog. This may include a summary of work completed, a list of tasks completed, any issues encountered, and any changes to the project scope, timeline, or budget. 2. Collect Worklog Information: Each team member will be responsible for collecting and submitting their worklog information on a weekly basis. This may involve tracking time spent on each task or providing a summary of work completed. 3. Compile Worklog Information: The PMO office will compile the worklog information from each team member into a single report, which will be sent to the client on a weekly basis. 4. Review and Approve Worklog: The PMO office will review the worklog to ensure that it is accurate, complete, and consistent with the project scope, timeline, and budget. Once the worklog is approved, it will be sent to the client. 5. Establish Worklog Review Process: The PMO office will establish a process for the client to review and provide feedback on the worklog. This may include a review meeting or an email exchange. By providing a weekly worklog, the project team can ensure that the client is kept informed of project progress and that any issues or changes to the project are identified and addressed in a timely manner. The worklog also provides a record of the work completed and serves as a basis for invoicing and other project documentation.']},\n",
       "  'sort': [1690848000000]}]"
      ]
     },
     "execution_count": 131,
     "metadata": {},
     "output_type": "execute_result"
    }
   ],
   "source": [
    "result = client.search(index=index_name, body=query)\n",
    "search_results = result['hits']['hits']\n",
    "search_results"
   ]
  },
  {
   "cell_type": "markdown",
   "id": "77e5ed62",
   "metadata": {},
   "source": [
    "## Multiply score and date"
   ]
  },
  {
   "cell_type": "code",
   "execution_count": 140,
   "id": "a8485d46",
   "metadata": {},
   "outputs": [],
   "source": [
    "query = {\n",
    "    \"size\": 16,\n",
    "    \"query\": {\n",
    "        \"function_score\": {\n",
    "            \"query\": {\n",
    "                \"knn\": {\n",
    "                    \"embedding\": {\n",
    "                        \"vector\": query_embedding,\n",
    "                        \"k\": 5\n",
    "                    }\n",
    "                }\n",
    "            },\n",
    "            \"functions\": [\n",
    "                {\n",
    "                    \"field_value_factor\": {\n",
    "                        \"field\": \"date\",\n",
    "                        \"factor\": 1,\n",
    "                        \"missing\": 0\n",
    "                    }\n",
    "                }\n",
    "            ],\n",
    "            \"score_mode\": \"multiply\"\n",
    "        }\n",
    "    },\n",
    "    \"_source\": False,\n",
    "    \"fields\": [\"page_number\", \"document_name\", \"chunk_text\", \"date\"]\n",
    "}\n"
   ]
  },
  {
   "cell_type": "code",
   "execution_count": null,
   "id": "8e23a1d8",
   "metadata": {},
   "outputs": [],
   "source": [
    "#unix timestamp in miliseconds multiplied"
   ]
  },
  {
   "cell_type": "code",
   "execution_count": 141,
   "id": "2d44f403",
   "metadata": {},
   "outputs": [
    {
     "data": {
      "text/plain": [
       "[{'_index': 'amit-pdf-date-index',\n",
       "  '_id': 'QkY6QYsBknONgm9nPZC8',\n",
       "  '_score': 138573.23,\n",
       "  'fields': {'date': ['2023-05-13T00:00:00.000Z'],\n",
       "   'document_name': ['Project Management Directives.pdf'],\n",
       "   'page_number': [1],\n",
       "   'chunk_text': [\"It is expected that all PMO office personnel will follow the procedures and guidelines outlined in this SOP to ensure that all projects are managed in a consistent and efficient manner. The PMO office will also continuously review and improve its processes to ensure that they are aligned with the needs of the company and its clients. Project Initiation & Planning The first step in managing a project is project initiation, which is the process of defining the project's scope, timeline, and budget. The goal of project initiation is to establish a clear understanding of the project's objectives, stakeholders, and constraints, and to develop a plan for how the project will be executed. The following are the key steps involved in project initiation: 1. Identify Project Objectives: The PMO office will work with the client to define the project objectives, which should be Specific, Measurable, Achievable, Relevant, and Time-bound (SMART). The project objectives will be documented in the project charter, which will serve as the guiding document for the project. List the general Project Objectives: The project should ease the way of doing business for this business process 2. Project Scope Define Project Scope: The PMO office will work with the client to define the project scope, which includes the work that needs to be done to achieve the project objectives.\"]}},\n",
       " {'_index': 'amit-pdf-date-index',\n",
       "  '_id': 'Q0Y6QYsBknONgm9nPZC8',\n",
       "  '_score': 138149.77,\n",
       "  'fields': {'date': ['2023-01-14T00:00:00.000Z'],\n",
       "   'document_name': ['Project Management Directives.pdf'],\n",
       "   'page_number': [2],\n",
       "   'chunk_text': [\"The project scope will be documented in the project scope statement, which will provide a clear understanding of the project's boundaries and deliverables. Scope of Work List the scope Must have Should have Could have Will not have Date: Remarks:(if any) Fig: Project Scope Template 3. Identify Project Stakeholders: The PMO office will identify the key stakeholders who are involved in the project and establish a communication plan to ensure that stakeholders are kept informed of project progress. The communication plan should include the frequency, format, and content of project status reports. Here is the list of involved stakeholders for the first process in development stage:: a. Product Owner b. Business Development Officer c. Project Manager d. Backend Developer e. Frontend Developer f. Dev Ops Engineer g. Communications Officer h. Add on as you go 4. RACI Matrix: After having the general overview of the client’s we have the Responsibility, Accountable,Consulted, Informed (RACI) matrix. RACI matrix is just a responsibility assignment matrix. In practice, it’s a simple spreadsheet or table that lists all stakeholders on a project and their level involvement in each task, denoted with the letters R, A, C or I. The RACI matrix for the __________________ is as follows Note: It can be modified as per the client's need.\"]}},\n",
       " {'_index': 'amit-pdf-date-index',\n",
       "  '_id': 'TEY6QYsBknONgm9nPZC8',\n",
       "  '_score': 135193.78,\n",
       "  'fields': {'date': ['2023-10-30T00:00:00.000Z'],\n",
       "   'document_name': ['Project Management Directives.pdf'],\n",
       "   'page_number': [9],\n",
       "   'chunk_text': ['2. Use Standard Issue Types: The PMO office will use standard JIRA issue types, such as Bug, Story, Task, and Epic. This ensures consistency and facilitates reporting and analysis. ● Product Backlog: Product Backlog is defined in JIRA SN Product backlog 1. Product backlog 1 ● Project Dependencies The PMO office shall be able to decide upon the dependencies as to decide which task to prioritize firstly ● Milestone: Examples of milestones Include: i. Figma Design approved ii. Project Charter approved iii. CRUD operation for user completed 3. Use Standard Workflows: The PMO will use standard JIRA workflows, such as To Do, In Progress, and Done. This helps to ensure that the team is following a consistent process and that issues are being tracked and resolved in a timely manner. 4. Define Acceptance Criteria: The PMO office will define clear acceptance criteria for each issue, which will be used to ensure that the work is completed to the satisfaction of the client. Acceptance criteria should be defined for each user story or task and should be included in the issue description. 5. Use Agile Boards: The PMO office will use JIRA Agile boards to manage the backlog, plan sprints, and track progress. This includes using the backlog, sprint, and active sprints views to manage work items, and using the board configuration to customize the board for each project. 6.']}},\n",
       " {'_index': 'amit-pdf-date-index',\n",
       "  '_id': 'REY6QYsBknONgm9nPZC8',\n",
       "  '_score': 134670.81,\n",
       "  'fields': {'date': ['2023-01-24T00:00:00.000Z'],\n",
       "   'document_name': ['Project Management Directives.pdf'],\n",
       "   'page_number': [3],\n",
       "   'chunk_text': [\"Task Product Owner Project Manager Dev Ops Engineer Front End Backend QA Task 1 Informed Responsibi lity Consulted Responsibi lity Responsibi lity Accountabl e Fig: RACI Matrix 5. Develop Project Schedule: The PMO office will develop a project schedule that includes the key milestones, activities, and dependencies required to complete the project. The project schedule will be documented in the project management plan, which will provide a roadmap for the project. Gantt charts from jira 6. Define Project Budget: The PMO office will work with the client to establish a project budget that includes all of the costs associated with the project, including personnel, materials, and other resources. The project budget will be documented in the project management plan. 7. Create JIRA Board: The PMO office will create a JIRA project for the project, configure project settings, and define custom fields, workflows, and issue types as necessary. 8. Project Constraint: A constraint in project management, is any restriction that defines a project limitations. List any Project Constraints that may arise during the projects: ● Constraint 1 ● Constraint 2 ● Constraint 3 Once the project initiation and planning phase is complete, the PMO office will have a clear understanding of the project's objectives, scope, timeline, budget, and stakeholders.\"]}},\n",
       " {'_index': 'amit-pdf-date-index',\n",
       "  '_id': 'T0Y6QYsBknONgm9nPZC8',\n",
       "  '_score': 133062.83,\n",
       "  'fields': {'date': ['2023-09-22T00:00:00.000Z'],\n",
       "   'document_name': ['Project Management Directives.pdf'],\n",
       "   'page_number': [11],\n",
       "   'chunk_text': ['The project plan will be documented in the project management plan. 2. Monitor Project Progress: The PMO office will monitor project progress to ensure that the project is on track to meet its objectives, and to identify and address any issues or risks that may arise. This includes monitoring the project schedule, budget, and quality, as well as the performance of the project team. 3. Control Project Execution: The PMO office will control project execution to ensure that the project is being executed in accordance with the project plan. This includes monitoring the project schedule, budget, and quality, as well as the performance of the project team, and taking corrective action as necessary. 4. Manage Project Changes: The PMO office will manage project changes to ensure that the project stays on track and within the defined scope, timeline, and budget. This includes evaluating change requests, assessing their impact on the project, and making decisions about whether to approve or reject the changes. 5. Report Project Status: The PMO office will report project status to the client on a regular basis, using the weekly worklog and other project management tools. This includes providing updates on project progress, highlighting any issues or risks, and outlining the next steps for the project. 6. (Close Project: The PMO office will close the project once all of the project objectives have been met and the client is satisfied with the deliverables.']}},\n",
       " {'_index': 'amit-pdf-date-index',\n",
       "  '_id': 'R0Y6QYsBknONgm9nPZC8',\n",
       "  '_score': 132979.12,\n",
       "  'fields': {'date': ['2023-08-01T00:00:00.000Z'],\n",
       "   'document_name': ['Project Management Directives.pdf'],\n",
       "   'page_number': [6],\n",
       "   'chunk_text': ['Define Worklog Format: The PMO office will define the format and content of the worklog. This may include a summary of work completed, a list of tasks completed, any issues encountered, and any changes to the project scope, timeline, or budget. 2. Collect Worklog Information: Each team member will be responsible for collecting and submitting their worklog information on a weekly basis. This may involve tracking time spent on each task or providing a summary of work completed. 3. Compile Worklog Information: The PMO office will compile the worklog information from each team member into a single report, which will be sent to the client on a weekly basis. 4. Review and Approve Worklog: The PMO office will review the worklog to ensure that it is accurate, complete, and consistent with the project scope, timeline, and budget. Once the worklog is approved, it will be sent to the client. 5. Establish Worklog Review Process: The PMO office will establish a process for the client to review and provide feedback on the worklog. This may include a review meeting or an email exchange. By providing a weekly worklog, the project team can ensure that the client is kept informed of project progress and that any issues or changes to the project are identified and addressed in a timely manner. The worklog also provides a record of the work completed and serves as a basis for invoicing and other project documentation.']}},\n",
       " {'_index': 'amit-pdf-date-index',\n",
       "  '_id': 'TkY6QYsBknONgm9nPZC8',\n",
       "  '_score': 132940.6,\n",
       "  'fields': {'date': ['2023-07-15T00:00:00.000Z'],\n",
       "   'document_name': ['Project Management Directives.pdf'],\n",
       "   'page_number': [10],\n",
       "   'chunk_text': ['There are four types of dependencies: ● Finish-to-start (the item this activity depends on must finish before this activity can start) ● Finish-to-finish (the item this activity depends on must finish before this activity can finish) ● Start-to-start (the item this activity depends on must start before this activity can start) ● Start-to-finish (the item this activity depends on must start before this activity can finish). List the Jira link for any key project dependencies in the following table: Activity Link Dependency Type(Optional) Jira Link : By following these guidelines, the PMO office can ensure that JIRA is used effectively and efficiently to manage projects and track progress. JIRA provides a powerful set of tools for managing Agile projects, and by using these tools effectively, the PMO office can help to ensure that projects are completed on time, within budget, and to the satisfaction of the client. Project Management Project management is the process of planning, executing, and controlling a project from start to finish. The goal of project management is to complete the project on time, within budget, and to the satisfaction of the client. The following are the key steps involved in project management: 1. Develop Project Plan: The PMO office will develop a project plan that outlines the project objectives, scope, timeline, and budget, as well as the roles and responsibilities of the project team.']}},\n",
       " {'_index': 'amit-pdf-date-index',\n",
       "  '_id': 'S0Y6QYsBknONgm9nPZC8',\n",
       "  '_score': 132348.05,\n",
       "  'fields': {'date': ['2023-04-14T00:00:00.000Z'],\n",
       "   'document_name': ['Project Management Directives.pdf'],\n",
       "   'page_number': [8],\n",
       "   'chunk_text': [\"This includes identifying and addressing issues that may be affecting the team's productivity or performance, and working with stakeholders to resolve any conflicts that may arise. 5. Foster Collaboration: The Scrum Master fosters collaboration and communication among team members and with stakeholders. This includes encouraging open communication, facilitating discussions, and promoting a culture of transparency and trust. 6. Ensure Team is Committed: The Scrum Master ensures that the team is committed to achieving the goals of the Sprint and that they have the necessary resources and support to do so. This includes monitoring the team's progress and performance, and providing feedback and guidance as necessary. By fulfilling these duties, the Scrum Master helps to ensure that the team is working effectively and efficiently and that the project is completed on time, within budget, and to the satisfaction of the client. JIRA Usage JIRA is a project management tool that is widely used in Agile software development. The tool is used to plan, track, and manage projects, and provides features for issue tracking, sprint planning, and reporting. The following are the key guidelines for JIRA usage in your PMO office: 1. Create Projects and Issues: The PMO office will create JIRA projects and issues for each project that it manages. This includes configuring the project settings, defining custom fields, and creating issue types and workflows as necessary. 2.\"]}},\n",
       " {'_index': 'amit-pdf-date-index',\n",
       "  '_id': 'TUY6QYsBknONgm9nPZC8',\n",
       "  '_score': 131830.31,\n",
       "  'fields': {'date': ['2023-04-02T00:00:00.000Z'],\n",
       "   'document_name': ['Project Management Directives.pdf'],\n",
       "   'page_number': [10],\n",
       "   'chunk_text': ['6. Sprint Management plan Link to jira board that contains the sprint plan, who the task is assigned to, comments, updated requirements, changes in the backlog Zoom for communication, within and outside the organization Link to jira board 7. Monitor Progress: The PMO office will use JIRA reports to monitor project progress and performance. This includes using the Sprint Report to track sprint progress, using the Burndown Chart to monitor progress towards the sprint goal, and using the Velocity Chart to track team performance over time. 8. Key Performance Indicators: KPI’s are used to measure the factors that ensures the success of a project. They show how the work is progressing and shows the area of weakness in the project. 9. Dependencies Dependencies’ are logical relationships between phases, activities or tasks which influence the way that the project must be undertaken. Dependencies may be either internal to the project (e.g. between project activities) or external to the project (e.g. a dependency between a project activity and a business activity).']}},\n",
       " {'_index': 'amit-pdf-date-index',\n",
       "  '_id': 'RkY6QYsBknONgm9nPZC8',\n",
       "  '_score': 131746.75,\n",
       "  'fields': {'date': ['2023-02-09T00:00:00.000Z'],\n",
       "   'document_name': ['Project Management Directives.pdf'],\n",
       "   'page_number': [5],\n",
       "   'chunk_text': [\"This includes tracking the amount of time that each team member spends on the project and comparing it to the budgeted amount. 5. Adjust Resource Allocation: If the project scope, timeline, or budget changes, the PMO office may need to adjust the resource allocation. This may involve adding or removing team members, adjusting workloads, or reallocating resources from one task to another. 6. Review Resource Performance: The PMO office will review the performance of each team member to ensure that they are meeting the project's expectations. This includes monitoring the quality of work, timeliness of deliverables, and adherence to project processes and procedures. Once the resource allocation phase is complete, the project team will have a clear understanding of the resources available for the project and how they will be used to complete the work. The PMO office will continue to monitor resource utilization and performance throughout the project and make adjustments as necessary to ensure that the project is completed on time, within budget, and to the satisfaction of the client. Weekly Worklog A weekly worklog is a report that provides an overview of the work completed by the project team during the previous week. The purpose of the worklog is to keep the client informed of project progress and to ensure that there is consistent and efficient communication between the project team and the client. The following are the key steps involved in weekly worklog: 1.\"]}},\n",
       " {'_index': 'amit-pdf-date-index',\n",
       "  '_id': 'QUY6QYsBknONgm9nPZC8',\n",
       "  '_score': 131712.95,\n",
       "  'fields': {'date': ['2023-03-09T00:00:00.000Z'],\n",
       "   'document_name': ['Project Management Directives.pdf'],\n",
       "   'page_number': [1],\n",
       "   'chunk_text': ['Introduction The Project Management Office (PMO) of Genese is responsible for overseeing the successful delivery of projects to our clients. The PMO plays a crucial role in ensuring that projects are completed on time, within budget, and to the satisfaction of the client. To achieve this, the PMO office follows a set of standard processes and procedures that are documented in this Standard Operating Procedure (SOP). The purpose of this SOP is to provide guidelines and instructions to all PMO office personnel to ensure consistency, accuracy, and efficiency in project management practices. The SOP outlines the best practices for managing projects and resources, and for ensuring consistent and efficient communication with clients. This document covers various aspects of project management, including project initiation, resource allocation, financial viability, and project management. It also includes guidelines for Scrum Master duties and JIRA usage, which are key components of our project management process. In addition to outlining the standard practices that will be followed by the PMO office, this SOP emphasizes the importance of collaboration and communication among team members and with clients. By following the guidelines outlined in this SOP, the PMO office can ensure that projects are completed to the highest standards and that clients receive the level of service they expect from Genese.']}},\n",
       " {'_index': 'amit-pdf-date-index',\n",
       "  '_id': 'UEY6QYsBknONgm9nPZC8',\n",
       "  '_score': 131439.92,\n",
       "  'fields': {'date': ['2023-09-07T00:00:00.000Z'],\n",
       "   'document_name': ['Project Management Directives.pdf'],\n",
       "   'page_number': [12],\n",
       "   'chunk_text': ['This includes documenting the project results, archiving project documents, and conducting a project post-mortem to identify areas for improvement.) By following these steps, the PMO office can ensure that the project is managed effectively and efficiently, and that the project is completed on time, within budget, and to the satisfaction of the client. Project management is a critical component of successful project delivery, and by using established project management practices and tools, the PMO office can help to ensure that its projects are successful. Project Closing: A project is considered completed when all the required deliverables are completed, tested and all the issues have been resolved and the project completion document is signed by the stakeholders. The project retrospective is completed to evaluate the project so it can be used as reference for future. Here are the key elements of project handover: ● The scope has been met which was discussed during the project planning ● The support plan for maintenance is finalized (if required) ● Releasing project resources (Human/Material) ● Measuring Client satisfaction ● Project Closure Report ● User Manual ● Process flow (From login to logout[if necessary])']}},\n",
       " {'_index': 'amit-pdf-date-index',\n",
       "  '_id': 'SEY6QYsBknONgm9nPZC8',\n",
       "  '_score': 130845.56,\n",
       "  'fields': {'date': ['2023-12-14T00:00:00.000Z'],\n",
       "   'document_name': ['Project Management Directives.pdf'],\n",
       "   'page_number': [6],\n",
       "   'chunk_text': [\"Note: The format and content of the worklog can vary depending on the client's requirements and the needs of the project. It is important to establish clear guidelines for the worklog to ensure consistency and accuracy. Financial Viability Financial viability is the process of evaluating the financial performance of support resources to ensure that they are contributing positively to the company's bottom line. The goal of financial viability is to ensure that the company is allocating its resources effectively and efficiently, and that its operations are financially sustainable. The following are the key steps involved in financial viability: 1. Identify Support Resources: The PMO office will identify the support resources that are being used for the project. This includes personnel, materials, and other resources. 2. Track Revenue Generated: The PMO office will track the revenue generated by support resources to determine their financial contribution to the project and to the company. This includes comparing the revenue generated to the costs associated with the resources. 3. Monitor Utilization Rate: The PMO office will monitor the utilization rate of support resources to ensure that they are being used efficiently. This includes comparing the amount of time that the resources are being used to the amount of time that they are available. 4.\"]}},\n",
       " {'_index': 'amit-pdf-date-index',\n",
       "  '_id': 'SUY6QYsBknONgm9nPZC8',\n",
       "  '_score': 130224.28,\n",
       "  'fields': {'date': ['2023-07-26T00:00:00.000Z'],\n",
       "   'document_name': ['Project Management Directives.pdf'],\n",
       "   'page_number': [7],\n",
       "   'chunk_text': [\"4. Evaluate Profitability: The PMO office will evaluate the profitability of support resources to ensure that they are contributing positively to the company's bottom line. This includes comparing the revenue generated to the costs associated with the resources and taking into account any indirect costs or overheads. 5. Adjust Resource Allocation: If support resources are not financially viable, the PMO office may need to adjust the resource allocation. This may involve replacing the resources with more cost-effective alternatives or reassigning them to other projects. 6. Continuously Review: Continuous review of the cost management plan is done to ensure that the project is completed without cost overhead. Financial monitoring is also one of the key aspects of project budgeting and controlling as it is directly related to failure/sucess of the project 7. Financial Viability: The PMO office will continuously review the financial viability of support resources to ensure that they are contributing positively to the company's bottom line. This includes evaluating their performance on a regular basis and making adjustments as necessary. By monitoring the financial viability of support resources, the PMO office can ensure that the company is allocating its resources effectively and efficiently, and that its operations are financially sustainable. It also ensures that the company is providing high-quality services to its clients while maintaining profitability.\"]}},\n",
       " {'_index': 'amit-pdf-date-index',\n",
       "  '_id': 'RUY6QYsBknONgm9nPZC8',\n",
       "  '_score': 130094.94,\n",
       "  'fields': {'date': ['2023-06-18T00:00:00.000Z'],\n",
       "   'document_name': ['Project Management Directives.pdf'],\n",
       "   'page_number': [4],\n",
       "   'chunk_text': ['The PMO office will use this information to create a detailed project plan that outlines how the project will be executed, monitored, and controlled. Resource Planning Resource planning is the process of planning resources to a project, including personnel, materials, and other resources. The goal of resource allocation is to ensure that the project has the necessary resources to complete the work within the defined scope, timeline, and budget. The following are the key steps involved in resource allocation: 1. Identify Resource Requirements: The PMO office will work with the project team to identify the resource requirements for the project. This includes the number and types of personnel required, as well as any materials or other resources needed. 2. Evaluate Resource Availability: The PMO office will evaluate the availability of resources, both front facing and back facing, to determine which resources are available and when they will be needed. This includes considering any conflicts with other projects or commitments that the resources may have. 3. Allocate Resources: Based on the resource requirements and availability, the PMO office will assign resources to the project. This includes identifying the roles and responsibilities of each team member and establishing reporting relationships. 4. Monitor Resource Utilization: The PMO office will monitor the utilization of resources to ensure that they are being used efficiently and effectively.']}},\n",
       " {'_index': 'amit-pdf-date-index',\n",
       "  '_id': 'SkY6QYsBknONgm9nPZC8',\n",
       "  '_score': 128877.234,\n",
       "  'fields': {'date': ['2023-04-19T00:00:00.000Z'],\n",
       "   'document_name': ['Project Management Directives.pdf'],\n",
       "   'page_number': [8],\n",
       "   'chunk_text': ['Scrum Master Duties The Scrum Master is responsible for ensuring that the Scrum framework is implemented effectively and that the team is following Agile principles and values. The Scrum Master acts as a facilitator and coach, guiding the team through the Scrum process and helping them to overcome any obstacles that may arise. The following are the key Scrum Master duties: 1. Product Backlog: The Scrum Master ensures that the Product Backlog is ready for Sprint Planning by working with the Product Owner to ensure that it is prioritized, refined, and estimated. This helps to ensure that the team can focus on the most important work during the Sprint. (Isn’t this a step in the project planning stage?) 2. Facilitate Scrum Ceremonies: The Scrum Master is responsible for facilitating the Scrum ceremonies, including Sprint Planning, Daily Stand-up, Sprint Review, and Sprint Retrospective. The Scrum Master ensures that the ceremonies are held on time and that they are focused on achieving the goals of the Sprint. 3. Coach and Guide the Team: The Scrum Master coaches and guides the team on Scrum practices and helps to ensure that the team is following Agile principles and values. This includes educating the team on the benefits of Agile and Scrum, and helping them to adopt new practices as necessary. 4. Remove Obstacles: The Scrum Master is responsible for removing any obstacles that may be preventing the team from achieving their goals.']}}]"
      ]
     },
     "execution_count": 141,
     "metadata": {},
     "output_type": "execute_result"
    }
   ],
   "source": [
    "result = client.search(index=index_name, body=query)\n",
    "search_results = result['hits']['hits']\n",
    "search_results"
   ]
  },
  {
   "cell_type": "markdown",
   "id": "4aaf2847",
   "metadata": {},
   "source": [
    "## Exponentialy reduce the importanc of documents by date"
   ]
  },
  {
   "cell_type": "code",
   "execution_count": 136,
   "id": "2a1d2c2e",
   "metadata": {},
   "outputs": [],
   "source": [
    "query={\n",
    "    \"size\": 5,\n",
    "    \"query\": {\n",
    "        \"function_score\": {\n",
    "            \"query\": {\n",
    "                \"knn\": {\n",
    "                    \"embedding\": {\n",
    "                        \"vector\": query_embedding,\n",
    "                        \"k\": 5\n",
    "                    }\n",
    "                }\n",
    "            },\n",
    "            \"functions\": [\n",
    "                {\n",
    "                    \"exp\": {\n",
    "                        \"date\": {\n",
    "                            \"origin\": \"now\",\n",
    "                            \"scale\": \"30d\", \n",
    "                            \"decay\": 0.5 \n",
    "                        }\n",
    "                    }\n",
    "                }\n",
    "            ],\n",
    "            \"score_mode\": \"sum\"\n",
    "        }\n",
    "    },\n",
    "    \"_source\": False,\n",
    "    \"fields\": [\"page_number\", \"document_name\", \"chunk_text\", \"date\"]\n",
    "}"
   ]
  },
  {
   "cell_type": "code",
   "execution_count": 137,
   "id": "3a9d063e",
   "metadata": {},
   "outputs": [
    {
     "data": {
      "text/plain": [
       "[{'_index': 'amit-pdf-date-index',\n",
       "  '_id': 'TEY6QYsBknONgm9nPZC8',\n",
       "  '_score': 0.60705316,\n",
       "  'fields': {'date': ['2023-10-30T00:00:00.000Z'],\n",
       "   'document_name': ['Project Management Directives.pdf'],\n",
       "   'page_number': [9],\n",
       "   'chunk_text': ['2. Use Standard Issue Types: The PMO office will use standard JIRA issue types, such as Bug, Story, Task, and Epic. This ensures consistency and facilitates reporting and analysis. ● Product Backlog: Product Backlog is defined in JIRA SN Product backlog 1. Product backlog 1 ● Project Dependencies The PMO office shall be able to decide upon the dependencies as to decide which task to prioritize firstly ● Milestone: Examples of milestones Include: i. Figma Design approved ii. Project Charter approved iii. CRUD operation for user completed 3. Use Standard Workflows: The PMO will use standard JIRA workflows, such as To Do, In Progress, and Done. This helps to ensure that the team is following a consistent process and that issues are being tracked and resolved in a timely manner. 4. Define Acceptance Criteria: The PMO office will define clear acceptance criteria for each issue, which will be used to ensure that the work is completed to the satisfaction of the client. Acceptance criteria should be defined for each user story or task and should be included in the issue description. 5. Use Agile Boards: The PMO office will use JIRA Agile boards to manage the backlog, plan sprints, and track progress. This includes using the backlog, sprint, and active sprints views to manage work items, and using the board configuration to customize the board for each project. 6.']}},\n",
       " {'_index': 'amit-pdf-date-index',\n",
       "  '_id': 'T0Y6QYsBknONgm9nPZC8',\n",
       "  '_score': 0.4276887,\n",
       "  'fields': {'date': ['2023-09-22T00:00:00.000Z'],\n",
       "   'document_name': ['Project Management Directives.pdf'],\n",
       "   'page_number': [11],\n",
       "   'chunk_text': ['The project plan will be documented in the project management plan. 2. Monitor Project Progress: The PMO office will monitor project progress to ensure that the project is on track to meet its objectives, and to identify and address any issues or risks that may arise. This includes monitoring the project schedule, budget, and quality, as well as the performance of the project team. 3. Control Project Execution: The PMO office will control project execution to ensure that the project is being executed in accordance with the project plan. This includes monitoring the project schedule, budget, and quality, as well as the performance of the project team, and taking corrective action as necessary. 4. Manage Project Changes: The PMO office will manage project changes to ensure that the project stays on track and within the defined scope, timeline, and budget. This includes evaluating change requests, assessing their impact on the project, and making decisions about whether to approve or reject the changes. 5. Report Project Status: The PMO office will report project status to the client on a regular basis, using the weekly worklog and other project management tools. This includes providing updates on project progress, highlighting any issues or risks, and outlining the next steps for the project. 6. (Close Project: The PMO office will close the project once all of the project objectives have been met and the client is satisfied with the deliverables.']}},\n",
       " {'_index': 'amit-pdf-date-index',\n",
       "  '_id': 'UEY6QYsBknONgm9nPZC8',\n",
       "  '_score': 0.29896164,\n",
       "  'fields': {'date': ['2023-09-07T00:00:00.000Z'],\n",
       "   'document_name': ['Project Management Directives.pdf'],\n",
       "   'page_number': [12],\n",
       "   'chunk_text': ['This includes documenting the project results, archiving project documents, and conducting a project post-mortem to identify areas for improvement.) By following these steps, the PMO office can ensure that the project is managed effectively and efficiently, and that the project is completed on time, within budget, and to the satisfaction of the client. Project management is a critical component of successful project delivery, and by using established project management practices and tools, the PMO office can help to ensure that its projects are successful. Project Closing: A project is considered completed when all the required deliverables are completed, tested and all the issues have been resolved and the project completion document is signed by the stakeholders. The project retrospective is completed to evaluate the project so it can be used as reference for future. Here are the key elements of project handover: ● The scope has been met which was discussed during the project planning ● The support plan for maintenance is finalized (if required) ● Releasing project resources (Human/Material) ● Measuring Client satisfaction ● Project Closure Report ● User Manual ● Process flow (From login to logout[if necessary])']}},\n",
       " {'_index': 'amit-pdf-date-index',\n",
       "  '_id': 'SEY6QYsBknONgm9nPZC8',\n",
       "  '_score': 0.20724837,\n",
       "  'fields': {'date': ['2023-12-14T00:00:00.000Z'],\n",
       "   'document_name': ['Project Management Directives.pdf'],\n",
       "   'page_number': [6],\n",
       "   'chunk_text': [\"Note: The format and content of the worklog can vary depending on the client's requirements and the needs of the project. It is important to establish clear guidelines for the worklog to ensure consistency and accuracy. Financial Viability Financial viability is the process of evaluating the financial performance of support resources to ensure that they are contributing positively to the company's bottom line. The goal of financial viability is to ensure that the company is allocating its resources effectively and efficiently, and that its operations are financially sustainable. The following are the key steps involved in financial viability: 1. Identify Support Resources: The PMO office will identify the support resources that are being used for the project. This includes personnel, materials, and other resources. 2. Track Revenue Generated: The PMO office will track the revenue generated by support resources to determine their financial contribution to the project and to the company. This includes comparing the revenue generated to the costs associated with the resources. 3. Monitor Utilization Rate: The PMO office will monitor the utilization rate of support resources to ensure that they are being used efficiently. This includes comparing the amount of time that the resources are being used to the amount of time that they are available. 4.\"]}},\n",
       " {'_index': 'amit-pdf-date-index',\n",
       "  '_id': 'R0Y6QYsBknONgm9nPZC8',\n",
       "  '_score': 0.12889071,\n",
       "  'fields': {'date': ['2023-08-01T00:00:00.000Z'],\n",
       "   'document_name': ['Project Management Directives.pdf'],\n",
       "   'page_number': [6],\n",
       "   'chunk_text': ['Define Worklog Format: The PMO office will define the format and content of the worklog. This may include a summary of work completed, a list of tasks completed, any issues encountered, and any changes to the project scope, timeline, or budget. 2. Collect Worklog Information: Each team member will be responsible for collecting and submitting their worklog information on a weekly basis. This may involve tracking time spent on each task or providing a summary of work completed. 3. Compile Worklog Information: The PMO office will compile the worklog information from each team member into a single report, which will be sent to the client on a weekly basis. 4. Review and Approve Worklog: The PMO office will review the worklog to ensure that it is accurate, complete, and consistent with the project scope, timeline, and budget. Once the worklog is approved, it will be sent to the client. 5. Establish Worklog Review Process: The PMO office will establish a process for the client to review and provide feedback on the worklog. This may include a review meeting or an email exchange. By providing a weekly worklog, the project team can ensure that the client is kept informed of project progress and that any issues or changes to the project are identified and addressed in a timely manner. The worklog also provides a record of the work completed and serves as a basis for invoicing and other project documentation.']}}]"
      ]
     },
     "execution_count": 137,
     "metadata": {},
     "output_type": "execute_result"
    }
   ],
   "source": [
    "result = client.search(index=index_name, body=query)\n",
    "search_results = result['hits']['hits']\n",
    "search_results"
   ]
  },
  {
   "cell_type": "code",
   "execution_count": 142,
   "id": "8eb030cd",
   "metadata": {},
   "outputs": [],
   "source": [
    "query={\n",
    "    \"size\": 5,\n",
    "    \"query\": {\n",
    "        \"function_score\": {\n",
    "            \"query\": {\n",
    "                \"knn\": {\n",
    "                    \"embedding\": {\n",
    "                        \"vector\": query_embedding,\n",
    "                        \"k\": 5\n",
    "                    }\n",
    "                }\n",
    "            },\n",
    "            \"functions\": [\n",
    "                {\n",
    "                    \"exp\": {\n",
    "                        \"date\": {\n",
    "                            \"origin\": \"2023-12-30\",\n",
    "                            \"scale\": \"30d\", \n",
    "                            \"decay\": 0.5 \n",
    "                        }\n",
    "                    }\n",
    "                }\n",
    "            ],\n",
    "            \"score_mode\": \"sum\"\n",
    "        }\n",
    "    },\n",
    "    \"_source\": False,\n",
    "    \"fields\": [\"page_number\", \"document_name\", \"chunk_text\", \"date\"]\n",
    "}"
   ]
  },
  {
   "cell_type": "code",
   "execution_count": 143,
   "id": "2145a0d8",
   "metadata": {},
   "outputs": [
    {
     "data": {
      "text/plain": [
       "[{'_index': 'amit-pdf-date-index',\n",
       "  '_id': 'SEY6QYsBknONgm9nPZC8',\n",
       "  '_score': 0.53103054,\n",
       "  'fields': {'date': ['2023-12-14T00:00:00.000Z'],\n",
       "   'document_name': ['Project Management Directives.pdf'],\n",
       "   'page_number': [6],\n",
       "   'chunk_text': [\"Note: The format and content of the worklog can vary depending on the client's requirements and the needs of the project. It is important to establish clear guidelines for the worklog to ensure consistency and accuracy. Financial Viability Financial viability is the process of evaluating the financial performance of support resources to ensure that they are contributing positively to the company's bottom line. The goal of financial viability is to ensure that the company is allocating its resources effectively and efficiently, and that its operations are financially sustainable. The following are the key steps involved in financial viability: 1. Identify Support Resources: The PMO office will identify the support resources that are being used for the project. This includes personnel, materials, and other resources. 2. Track Revenue Generated: The PMO office will track the revenue generated by support resources to determine their financial contribution to the project and to the company. This includes comparing the revenue generated to the costs associated with the resources. 3. Monitor Utilization Rate: The PMO office will monitor the utilization rate of support resources to ensure that they are being used efficiently. This includes comparing the amount of time that the resources are being used to the amount of time that they are available. 4.\"]}},\n",
       " {'_index': 'amit-pdf-date-index',\n",
       "  '_id': 'TEY6QYsBknONgm9nPZC8',\n",
       "  '_score': 0.19443083,\n",
       "  'fields': {'date': ['2023-10-30T00:00:00.000Z'],\n",
       "   'document_name': ['Project Management Directives.pdf'],\n",
       "   'page_number': [9],\n",
       "   'chunk_text': ['2. Use Standard Issue Types: The PMO office will use standard JIRA issue types, such as Bug, Story, Task, and Epic. This ensures consistency and facilitates reporting and analysis. ● Product Backlog: Product Backlog is defined in JIRA SN Product backlog 1. Product backlog 1 ● Project Dependencies The PMO office shall be able to decide upon the dependencies as to decide which task to prioritize firstly ● Milestone: Examples of milestones Include: i. Figma Design approved ii. Project Charter approved iii. CRUD operation for user completed 3. Use Standard Workflows: The PMO will use standard JIRA workflows, such as To Do, In Progress, and Done. This helps to ensure that the team is following a consistent process and that issues are being tracked and resolved in a timely manner. 4. Define Acceptance Criteria: The PMO office will define clear acceptance criteria for each issue, which will be used to ensure that the work is completed to the satisfaction of the client. Acceptance criteria should be defined for each user story or task and should be included in the issue description. 5. Use Agile Boards: The PMO office will use JIRA Agile boards to manage the backlog, plan sprints, and track progress. This includes using the backlog, sprint, and active sprints views to manage work items, and using the board configuration to customize the board for each project. 6.']}},\n",
       " {'_index': 'amit-pdf-date-index',\n",
       "  '_id': 'T0Y6QYsBknONgm9nPZC8',\n",
       "  '_score': 0.079689436,\n",
       "  'fields': {'date': ['2023-09-22T00:00:00.000Z'],\n",
       "   'document_name': ['Project Management Directives.pdf'],\n",
       "   'page_number': [11],\n",
       "   'chunk_text': ['The project plan will be documented in the project management plan. 2. Monitor Project Progress: The PMO office will monitor project progress to ensure that the project is on track to meet its objectives, and to identify and address any issues or risks that may arise. This includes monitoring the project schedule, budget, and quality, as well as the performance of the project team. 3. Control Project Execution: The PMO office will control project execution to ensure that the project is being executed in accordance with the project plan. This includes monitoring the project schedule, budget, and quality, as well as the performance of the project team, and taking corrective action as necessary. 4. Manage Project Changes: The PMO office will manage project changes to ensure that the project stays on track and within the defined scope, timeline, and budget. This includes evaluating change requests, assessing their impact on the project, and making decisions about whether to approve or reject the changes. 5. Report Project Status: The PMO office will report project status to the client on a regular basis, using the weekly worklog and other project management tools. This includes providing updates on project progress, highlighting any issues or risks, and outlining the next steps for the project. 6. (Close Project: The PMO office will close the project once all of the project objectives have been met and the client is satisfied with the deliverables.']}},\n",
       " {'_index': 'amit-pdf-date-index',\n",
       "  '_id': 'UEY6QYsBknONgm9nPZC8',\n",
       "  '_score': 0.055704262,\n",
       "  'fields': {'date': ['2023-09-07T00:00:00.000Z'],\n",
       "   'document_name': ['Project Management Directives.pdf'],\n",
       "   'page_number': [12],\n",
       "   'chunk_text': ['This includes documenting the project results, archiving project documents, and conducting a project post-mortem to identify areas for improvement.) By following these steps, the PMO office can ensure that the project is managed effectively and efficiently, and that the project is completed on time, within budget, and to the satisfaction of the client. Project management is a critical component of successful project delivery, and by using established project management practices and tools, the PMO office can help to ensure that its projects are successful. Project Closing: A project is considered completed when all the required deliverables are completed, tested and all the issues have been resolved and the project completion document is signed by the stakeholders. The project retrospective is completed to evaluate the project so it can be used as reference for future. Here are the key elements of project handover: ● The scope has been met which was discussed during the project planning ● The support plan for maintenance is finalized (if required) ● Releasing project resources (Human/Material) ● Measuring Client satisfaction ● Project Closure Report ● User Manual ● Process flow (From login to logout[if necessary])']}},\n",
       " {'_index': 'amit-pdf-date-index',\n",
       "  '_id': 'R0Y6QYsBknONgm9nPZC8',\n",
       "  '_score': 0.024015663,\n",
       "  'fields': {'date': ['2023-08-01T00:00:00.000Z'],\n",
       "   'document_name': ['Project Management Directives.pdf'],\n",
       "   'page_number': [6],\n",
       "   'chunk_text': ['Define Worklog Format: The PMO office will define the format and content of the worklog. This may include a summary of work completed, a list of tasks completed, any issues encountered, and any changes to the project scope, timeline, or budget. 2. Collect Worklog Information: Each team member will be responsible for collecting and submitting their worklog information on a weekly basis. This may involve tracking time spent on each task or providing a summary of work completed. 3. Compile Worklog Information: The PMO office will compile the worklog information from each team member into a single report, which will be sent to the client on a weekly basis. 4. Review and Approve Worklog: The PMO office will review the worklog to ensure that it is accurate, complete, and consistent with the project scope, timeline, and budget. Once the worklog is approved, it will be sent to the client. 5. Establish Worklog Review Process: The PMO office will establish a process for the client to review and provide feedback on the worklog. This may include a review meeting or an email exchange. By providing a weekly worklog, the project team can ensure that the client is kept informed of project progress and that any issues or changes to the project are identified and addressed in a timely manner. The worklog also provides a record of the work completed and serves as a basis for invoicing and other project documentation.']}}]"
      ]
     },
     "execution_count": 143,
     "metadata": {},
     "output_type": "execute_result"
    }
   ],
   "source": [
    "result = client.search(index=index_name, body=query)\n",
    "search_results = result['hits']['hits']\n",
    "search_results"
   ]
  },
  {
   "cell_type": "markdown",
   "id": "edb56c55",
   "metadata": {},
   "source": [
    "## Delete By Query"
   ]
  },
  {
   "cell_type": "code",
   "execution_count": 51,
   "id": "b97ce4cc",
   "metadata": {},
   "outputs": [],
   "source": [
    "query = {\n",
    "  \"query\": {\n",
    "    \"match\": {\n",
    "      \"document_name\": \"Document_name_Test.pdf\"\n",
    "    }\n",
    "  }\n",
    "}"
   ]
  },
  {
   "cell_type": "code",
   "execution_count": 52,
   "id": "973be12a",
   "metadata": {},
   "outputs": [
    {
     "data": {
      "text/plain": [
       "{'took': 219,\n",
       " 'timed_out': False,\n",
       " 'total': 16,\n",
       " 'deleted': 16,\n",
       " 'batches': 1,\n",
       " 'version_conflicts': 0,\n",
       " 'noops': 0,\n",
       " 'retries': {'bulk': 0, 'search': 0},\n",
       " 'throttled_millis': 0,\n",
       " 'requests_per_second': -1.0,\n",
       " 'throttled_until_millis': 0,\n",
       " 'failures': []}"
      ]
     },
     "execution_count": 52,
     "metadata": {},
     "output_type": "execute_result"
    }
   ],
   "source": [
    "client.delete_by_query(index=index_name, body=query)"
   ]
  },
  {
   "cell_type": "code",
   "execution_count": null,
   "id": "763766c9",
   "metadata": {},
   "outputs": [],
   "source": []
  },
  {
   "cell_type": "markdown",
   "id": "cced4aba",
   "metadata": {},
   "source": [
    "## Delete Index"
   ]
  },
  {
   "cell_type": "code",
   "execution_count": 78,
   "id": "683103ad",
   "metadata": {},
   "outputs": [
    {
     "name": "stdout",
     "output_type": "stream",
     "text": [
      "{'acknowledged': True}\n"
     ]
    }
   ],
   "source": [
    "response = client.indices.delete(\n",
    "    index = index_name\n",
    ")\n",
    "\n",
    "print(response)"
   ]
  },
  {
   "cell_type": "code",
   "execution_count": null,
   "id": "7641a339",
   "metadata": {},
   "outputs": [],
   "source": []
  }
 ],
 "metadata": {
  "kernelspec": {
   "display_name": "conda_pytorch_p310",
   "language": "python",
   "name": "conda_pytorch_p310"
  },
  "language_info": {
   "codemirror_mode": {
    "name": "ipython",
    "version": 3
   },
   "file_extension": ".py",
   "mimetype": "text/x-python",
   "name": "python",
   "nbconvert_exporter": "python",
   "pygments_lexer": "ipython3",
   "version": "3.10.12"
  }
 },
 "nbformat": 4,
 "nbformat_minor": 5
}
